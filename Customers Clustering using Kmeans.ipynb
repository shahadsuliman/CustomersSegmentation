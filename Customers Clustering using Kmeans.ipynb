{
 "cells": [
  {
   "cell_type": "markdown",
   "metadata": {
    "deletable": true,
    "editable": true
   },
   "source": [
    "The <b>objective </b> of this notebook is to identify different segments of customers in Online Retail dataset on the basis of their purchasing behavior to run targeted marketing campaign\n",
    "\n",
    "## Approach\n",
    "\n",
    "We are going to use an extended RFM model with Kmeans to cluster the customers"
   ]
  },
  {
   "cell_type": "markdown",
   "metadata": {
    "deletable": true,
    "editable": true
   },
   "source": [
    "## Import Packages"
   ]
  },
  {
   "cell_type": "code",
   "execution_count": 1,
   "metadata": {
    "collapsed": true,
    "deletable": true,
    "editable": true
   },
   "outputs": [],
   "source": [
    "import pandas as pd\n",
    "import numpy as np\n",
    "import matplotlib.pyplot as plt\n",
    "import matplotlib.cm as cm\n",
    "from sklearn.cluster import MiniBatchKMeans\n",
    "from sklearn.feature_extraction.text import TfidfVectorizer\n",
    "from sklearn.decomposition import PCA\n",
    "from sklearn.manifold import TSNE\n",
    "from sklearn.metrics import silhouette_samples\n",
    "import matplotlib as mpl\n",
    "import re"
   ]
  },
  {
   "cell_type": "markdown",
   "metadata": {
    "deletable": true,
    "editable": true
   },
   "source": [
    "## Define Util Functions"
   ]
  },
  {
   "cell_type": "code",
   "execution_count": 2,
   "metadata": {
    "collapsed": true,
    "deletable": true,
    "editable": true
   },
   "outputs": [],
   "source": [
    "def remove_wspaces(dataframe):\n",
    "    '''\n",
    "    Remove whitespace from column names.\n",
    "    whitespaces in a column's name might cause a keyerror exception when trying to access that column\n",
    "    '''\n",
    "    dataframe.columns = dataframe.columns.str.strip()\n",
    "    return dataframe\n",
    "import seaborn as sns\n",
    "def plt_distribution(dataset):\n",
    "    for key in dataset.columns.values:\n",
    "        plt.figure(figsize=(16,14))\n",
    "        plt.subplot(4, 1, 1)\n",
    "        sns.distplot(dataset[key])\n",
    "        plt.show()\n",
    "def log_transformation(dataset):\n",
    "    return np.log(dataset)\n",
    "\n",
    "def info_(data):\n",
    "    '''\n",
    "    Get basic INFO about a given dataset\n",
    "    '''\n",
    "    types = data.dtypes #data types\n",
    "    no_nulls = data.isnull().sum() #number of nulls in each column\n",
    "    perc_nulls = data.isnull().sum()/len(data) * 100 #% of nulls\n",
    "    #Build the table\n",
    "    frame = { 'Types': types, '# of nulls': no_nulls, '% of nulls': perc_nulls } \n",
    "    info = pd.DataFrame(frame)\n",
    "    info.round({'% of nulls':2})\n",
    "    return info\n",
    "\n",
    "'''PRE-PROCESSING FUNCTION'''\n",
    "def tokenize(text):\n",
    "    return nltk.word_tokenize(text)\n",
    "\n",
    "def clean(line):\n",
    "    line = re.sub(r'[%|^|&|@|#|?|-|\\]|\\[|؛]|/|\\\\|_|,|-',' ',line)\n",
    "    line = re.sub(r'[)|(|:|.|\\t]', ' ', line)\n",
    "    line = re.sub(r'ـ', '', line)\n",
    "    line = re.sub(r\"&|#|@|[|]|#|\\^|\\*|\\$|'|\\+|=|~|»|«|}|{\",\" \",line)\n",
    "    #Digits\n",
    "    line = re.sub(r'\\d+', ' ', line)\n",
    "    line = re.sub(r'   {1,}', ' ', line)\n",
    "    #remove one-char-length words \n",
    "    line = re.sub(r'\\b\\w{1,1}\\b', '', line)\n",
    "    return line.strip()\n",
    "\n",
    "def deNoise(text):\n",
    "    noise = re.compile(\"\"\" ّ    | # Tashdid\n",
    "                             َ    | # Fatha\n",
    "                             ً    | # Tanwin Fath\n",
    "                             ُ    | # Damma\n",
    "                             ٌ    | # Tanwin Damm\n",
    "                             ِ    | # Kasra\n",
    "                             ٍ    | # Tanwin Kasr\n",
    "                             ْ    | # Sukun\n",
    "                             ـ     # Tatwil/Kashida\n",
    "                         \"\"\", re.VERBOSE)\n",
    "    text = re.sub(noise, '', text)\n",
    "    return text\n",
    "\n",
    "def pre_process(x):\n",
    "    x = clean(x)\n",
    "    x = normlization(x)\n",
    "    x = deNoise(x)\n",
    "    x = x.lower()\n",
    "    x = clean(x.strip())\n",
    "    return x"
   ]
  },
  {
   "cell_type": "markdown",
   "metadata": {
    "deletable": true,
    "editable": true
   },
   "source": [
    "## 1. Load The Data"
   ]
  },
  {
   "cell_type": "markdown",
   "metadata": {
    "deletable": true,
    "editable": true
   },
   "source": [
    "The dataset is expected to be cleaned and pre-proccessed and have product category information (see Data Preparation notebook)"
   ]
  },
  {
   "cell_type": "code",
   "execution_count": 3,
   "metadata": {
    "collapsed": false,
    "deletable": true,
    "editable": true
   },
   "outputs": [
    {
     "name": "stdout",
     "output_type": "stream",
     "text": [
      "Init Dataset size : (396337, 12)\n"
     ]
    }
   ],
   "source": [
    "#Read the file\n",
    "df = pd.read_csv('dataset/tfidf_dataset.csv',index_col=[0],encoding='unicode_escape')\n",
    "print(\"Init Dataset size : {}\".format(df.shape))"
   ]
  },
  {
   "cell_type": "code",
   "execution_count": 4,
   "metadata": {
    "collapsed": true
   },
   "outputs": [],
   "source": [
    "original = df.copy()"
   ]
  },
  {
   "cell_type": "markdown",
   "metadata": {},
   "source": [
    "## 2. Clean & Transform the Data"
   ]
  },
  {
   "cell_type": "markdown",
   "metadata": {
    "deletable": true,
    "editable": true
   },
   "source": [
    "### Drop Missing and Incomplete data"
   ]
  },
  {
   "cell_type": "markdown",
   "metadata": {
    "deletable": true,
    "editable": true
   },
   "source": [
    "Ensure that the dataset is clean"
   ]
  },
  {
   "cell_type": "code",
   "execution_count": 5,
   "metadata": {
    "collapsed": false,
    "deletable": true,
    "editable": true
   },
   "outputs": [
    {
     "data": {
      "text/plain": [
       "(396337, 12)"
      ]
     },
     "execution_count": 5,
     "metadata": {},
     "output_type": "execute_result"
    }
   ],
   "source": [
    "#1) Drop nan custumor IDs\n",
    "df.dropna(axis=0,subset = ['CustomerID'],inplace=True)\n",
    "df.shape\n",
    "#2) Drop negative quanitiy\n",
    "df = df[df['Quantity']>0]\n",
    "df.shape"
   ]
  },
  {
   "cell_type": "markdown",
   "metadata": {
    "deletable": true,
    "editable": true
   },
   "source": [
    "Change the column 'tfidf_cluster' to ProductCategory which will represent a unique category for that product "
   ]
  },
  {
   "cell_type": "code",
   "execution_count": 6,
   "metadata": {
    "collapsed": false,
    "deletable": true,
    "editable": true
   },
   "outputs": [
    {
     "data": {
      "text/html": [
       "<div>\n",
       "<style>\n",
       "    .dataframe thead tr:only-child th {\n",
       "        text-align: right;\n",
       "    }\n",
       "\n",
       "    .dataframe thead th {\n",
       "        text-align: left;\n",
       "    }\n",
       "\n",
       "    .dataframe tbody tr th {\n",
       "        vertical-align: top;\n",
       "    }\n",
       "</style>\n",
       "<table border=\"1\" class=\"dataframe\">\n",
       "  <thead>\n",
       "    <tr style=\"text-align: right;\">\n",
       "      <th></th>\n",
       "      <th>InvoiceNo</th>\n",
       "      <th>StockCode</th>\n",
       "      <th>Description</th>\n",
       "      <th>Quantity</th>\n",
       "      <th>InvoiceDate</th>\n",
       "      <th>UnitPrice</th>\n",
       "      <th>CustomerID</th>\n",
       "      <th>Country</th>\n",
       "      <th>Cleaned</th>\n",
       "      <th>ProductCategory</th>\n",
       "      <th>vectors</th>\n",
       "      <th>cluster</th>\n",
       "    </tr>\n",
       "  </thead>\n",
       "  <tbody>\n",
       "  </tbody>\n",
       "</table>\n",
       "</div>"
      ],
      "text/plain": [
       "Empty DataFrame\n",
       "Columns: [InvoiceNo, StockCode, Description, Quantity, InvoiceDate, UnitPrice, CustomerID, Country, Cleaned, ProductCategory, vectors, cluster]\n",
       "Index: []"
      ]
     },
     "execution_count": 6,
     "metadata": {},
     "output_type": "execute_result"
    }
   ],
   "source": [
    "df = df.rename(columns={'tfidf_cluster':'ProductCategory'})\n",
    "df[df['ProductCategory'].isnull()]"
   ]
  },
  {
   "cell_type": "code",
   "execution_count": 7,
   "metadata": {
    "collapsed": false,
    "deletable": true,
    "editable": true
   },
   "outputs": [
    {
     "data": {
      "text/html": [
       "<div>\n",
       "<style>\n",
       "    .dataframe thead tr:only-child th {\n",
       "        text-align: right;\n",
       "    }\n",
       "\n",
       "    .dataframe thead th {\n",
       "        text-align: left;\n",
       "    }\n",
       "\n",
       "    .dataframe tbody tr th {\n",
       "        vertical-align: top;\n",
       "    }\n",
       "</style>\n",
       "<table border=\"1\" class=\"dataframe\">\n",
       "  <thead>\n",
       "    <tr style=\"text-align: right;\">\n",
       "      <th></th>\n",
       "      <th># of nulls</th>\n",
       "      <th>% of nulls</th>\n",
       "      <th>Types</th>\n",
       "    </tr>\n",
       "  </thead>\n",
       "  <tbody>\n",
       "    <tr>\n",
       "      <th>InvoiceNo</th>\n",
       "      <td>0</td>\n",
       "      <td>0.0</td>\n",
       "      <td>int64</td>\n",
       "    </tr>\n",
       "    <tr>\n",
       "      <th>StockCode</th>\n",
       "      <td>0</td>\n",
       "      <td>0.0</td>\n",
       "      <td>object</td>\n",
       "    </tr>\n",
       "    <tr>\n",
       "      <th>Description</th>\n",
       "      <td>0</td>\n",
       "      <td>0.0</td>\n",
       "      <td>object</td>\n",
       "    </tr>\n",
       "    <tr>\n",
       "      <th>Quantity</th>\n",
       "      <td>0</td>\n",
       "      <td>0.0</td>\n",
       "      <td>int64</td>\n",
       "    </tr>\n",
       "    <tr>\n",
       "      <th>InvoiceDate</th>\n",
       "      <td>0</td>\n",
       "      <td>0.0</td>\n",
       "      <td>object</td>\n",
       "    </tr>\n",
       "    <tr>\n",
       "      <th>UnitPrice</th>\n",
       "      <td>0</td>\n",
       "      <td>0.0</td>\n",
       "      <td>float64</td>\n",
       "    </tr>\n",
       "    <tr>\n",
       "      <th>CustomerID</th>\n",
       "      <td>0</td>\n",
       "      <td>0.0</td>\n",
       "      <td>float64</td>\n",
       "    </tr>\n",
       "    <tr>\n",
       "      <th>Country</th>\n",
       "      <td>0</td>\n",
       "      <td>0.0</td>\n",
       "      <td>object</td>\n",
       "    </tr>\n",
       "    <tr>\n",
       "      <th>Cleaned</th>\n",
       "      <td>0</td>\n",
       "      <td>0.0</td>\n",
       "      <td>object</td>\n",
       "    </tr>\n",
       "    <tr>\n",
       "      <th>ProductCategory</th>\n",
       "      <td>0</td>\n",
       "      <td>0.0</td>\n",
       "      <td>int64</td>\n",
       "    </tr>\n",
       "    <tr>\n",
       "      <th>vectors</th>\n",
       "      <td>0</td>\n",
       "      <td>0.0</td>\n",
       "      <td>object</td>\n",
       "    </tr>\n",
       "    <tr>\n",
       "      <th>cluster</th>\n",
       "      <td>0</td>\n",
       "      <td>0.0</td>\n",
       "      <td>int64</td>\n",
       "    </tr>\n",
       "  </tbody>\n",
       "</table>\n",
       "</div>"
      ],
      "text/plain": [
       "                 # of nulls  % of nulls    Types\n",
       "InvoiceNo                 0         0.0    int64\n",
       "StockCode                 0         0.0   object\n",
       "Description               0         0.0   object\n",
       "Quantity                  0         0.0    int64\n",
       "InvoiceDate               0         0.0   object\n",
       "UnitPrice                 0         0.0  float64\n",
       "CustomerID                0         0.0  float64\n",
       "Country                   0         0.0   object\n",
       "Cleaned                   0         0.0   object\n",
       "ProductCategory           0         0.0    int64\n",
       "vectors                   0         0.0   object\n",
       "cluster                   0         0.0    int64"
      ]
     },
     "execution_count": 7,
     "metadata": {},
     "output_type": "execute_result"
    }
   ],
   "source": [
    "#Get basic info\n",
    "info_(df)"
   ]
  },
  {
   "cell_type": "markdown",
   "metadata": {
    "deletable": true,
    "editable": true
   },
   "source": [
    "### Add Total Amount for each purchased Item based on the QNT"
   ]
  },
  {
   "cell_type": "markdown",
   "metadata": {
    "deletable": true,
    "editable": true
   },
   "source": [
    "For each purchased item, the dataset provides a UnitPrice and Quantity. Here, I will add a new column that calculates the total prices as the following: *Quanitiy × UnitPrice*"
   ]
  },
  {
   "cell_type": "code",
   "execution_count": 8,
   "metadata": {
    "collapsed": false,
    "deletable": true,
    "editable": true
   },
   "outputs": [],
   "source": [
    "df['TotalAmount'] = df['Quantity'] * df['UnitPrice']"
   ]
  },
  {
   "cell_type": "markdown",
   "metadata": {
    "deletable": true,
    "editable": true
   },
   "source": [
    "### Add N Columns Product Categories"
   ]
  },
  {
   "cell_type": "markdown",
   "metadata": {
    "deletable": true,
    "editable": true
   },
   "source": [
    "####  A. Transform the DataFrame by adding column for each product category"
   ]
  },
  {
   "cell_type": "markdown",
   "metadata": {
    "deletable": true,
    "editable": true
   },
   "source": [
    "I will add new column for each product category (N columns depend on the total number of categories we have). \n",
    "Then, the amount of money spent on each product category will be added. At this time, the amount of money is simply equal to the total price (the dataframe is in a purchased-item-centric form, where each record represent one purchased item)"
   ]
  },
  {
   "cell_type": "code",
   "execution_count": 9,
   "metadata": {
    "collapsed": false,
    "deletable": true,
    "editable": true
   },
   "outputs": [],
   "source": [
    "dfout = (df.pivot_table(index=[\"InvoiceNo\",'StockCode'],columns=\"ProductCategory\", values='TotalAmount')\n",
    "            .reset_index())"
   ]
  },
  {
   "cell_type": "code",
   "execution_count": 10,
   "metadata": {
    "collapsed": false,
    "deletable": true,
    "editable": true
   },
   "outputs": [
    {
     "data": {
      "text/html": [
       "<div>\n",
       "<style>\n",
       "    .dataframe thead tr:only-child th {\n",
       "        text-align: right;\n",
       "    }\n",
       "\n",
       "    .dataframe thead th {\n",
       "        text-align: left;\n",
       "    }\n",
       "\n",
       "    .dataframe tbody tr th {\n",
       "        vertical-align: top;\n",
       "    }\n",
       "</style>\n",
       "<table border=\"1\" class=\"dataframe\">\n",
       "  <thead>\n",
       "    <tr style=\"text-align: right;\">\n",
       "      <th></th>\n",
       "      <th>InvoiceNo</th>\n",
       "      <th>StockCode</th>\n",
       "      <th>Description</th>\n",
       "      <th>Quantity</th>\n",
       "      <th>InvoiceDate</th>\n",
       "      <th>UnitPrice</th>\n",
       "      <th>CustomerID</th>\n",
       "      <th>Country</th>\n",
       "      <th>Cleaned</th>\n",
       "      <th>ProductCategory</th>\n",
       "      <th>vectors</th>\n",
       "      <th>cluster</th>\n",
       "      <th>TotalAmount</th>\n",
       "      <th>0</th>\n",
       "      <th>1</th>\n",
       "      <th>2</th>\n",
       "      <th>3</th>\n",
       "      <th>4</th>\n",
       "    </tr>\n",
       "  </thead>\n",
       "  <tbody>\n",
       "    <tr>\n",
       "      <th>0</th>\n",
       "      <td>536365</td>\n",
       "      <td>85123A</td>\n",
       "      <td>WHITE HANGING HEART T-LIGHT HOLDER</td>\n",
       "      <td>6</td>\n",
       "      <td>12/1/2010 8:26</td>\n",
       "      <td>2.55</td>\n",
       "      <td>17850.0</td>\n",
       "      <td>United Kingdom</td>\n",
       "      <td>white hanging heart  light holder</td>\n",
       "      <td>4</td>\n",
       "      <td>[[-0.5407713   0.00922254 -0.74696803  0.33000...</td>\n",
       "      <td>4</td>\n",
       "      <td>15.30</td>\n",
       "      <td>0.00</td>\n",
       "      <td>0.0</td>\n",
       "      <td>0.0</td>\n",
       "      <td>0.0</td>\n",
       "      <td>15.3</td>\n",
       "    </tr>\n",
       "    <tr>\n",
       "      <th>1</th>\n",
       "      <td>536365</td>\n",
       "      <td>71053</td>\n",
       "      <td>WHITE METAL LANTERN</td>\n",
       "      <td>6</td>\n",
       "      <td>12/1/2010 8:26</td>\n",
       "      <td>3.39</td>\n",
       "      <td>17850.0</td>\n",
       "      <td>United Kingdom</td>\n",
       "      <td>white metal lantern</td>\n",
       "      <td>0</td>\n",
       "      <td>[[-0.68263596 -0.68192595  0.2961907  -0.50574...</td>\n",
       "      <td>4</td>\n",
       "      <td>20.34</td>\n",
       "      <td>20.34</td>\n",
       "      <td>0.0</td>\n",
       "      <td>0.0</td>\n",
       "      <td>0.0</td>\n",
       "      <td>0.0</td>\n",
       "    </tr>\n",
       "  </tbody>\n",
       "</table>\n",
       "</div>"
      ],
      "text/plain": [
       "   InvoiceNo StockCode                         Description  Quantity  \\\n",
       "0     536365    85123A  WHITE HANGING HEART T-LIGHT HOLDER         6   \n",
       "1     536365     71053                 WHITE METAL LANTERN         6   \n",
       "\n",
       "      InvoiceDate  UnitPrice  CustomerID         Country  \\\n",
       "0  12/1/2010 8:26       2.55     17850.0  United Kingdom   \n",
       "1  12/1/2010 8:26       3.39     17850.0  United Kingdom   \n",
       "\n",
       "                             Cleaned  ProductCategory  \\\n",
       "0  white hanging heart  light holder                4   \n",
       "1                white metal lantern                0   \n",
       "\n",
       "                                             vectors  cluster  TotalAmount  \\\n",
       "0  [[-0.5407713   0.00922254 -0.74696803  0.33000...        4        15.30   \n",
       "1  [[-0.68263596 -0.68192595  0.2961907  -0.50574...        4        20.34   \n",
       "\n",
       "       0    1    2    3     4  \n",
       "0   0.00  0.0  0.0  0.0  15.3  \n",
       "1  20.34  0.0  0.0  0.0   0.0  "
      ]
     },
     "execution_count": 10,
     "metadata": {},
     "output_type": "execute_result"
    }
   ],
   "source": [
    "#### Merge the pivot df to the actual df\n",
    "merged_df = df.merge(dfout , how = 'outer', on = ['InvoiceNo','StockCode'])\n",
    "merged_df.fillna(0, inplace = True)\n",
    "merged_df.head(2)"
   ]
  },
  {
   "cell_type": "code",
   "execution_count": 11,
   "metadata": {
    "collapsed": true,
    "deletable": true,
    "editable": true
   },
   "outputs": [],
   "source": [
    "#Change categories columns names\n",
    "merged_df = merged_df.rename(columns={0:'C0',1:'C1',2:'C2',3:'C3',4:'C4',5:'C5'})"
   ]
  },
  {
   "cell_type": "code",
   "execution_count": 12,
   "metadata": {
    "collapsed": false,
    "deletable": true,
    "editable": true
   },
   "outputs": [
    {
     "data": {
      "text/html": [
       "<div>\n",
       "<style>\n",
       "    .dataframe thead tr:only-child th {\n",
       "        text-align: right;\n",
       "    }\n",
       "\n",
       "    .dataframe thead th {\n",
       "        text-align: left;\n",
       "    }\n",
       "\n",
       "    .dataframe tbody tr th {\n",
       "        vertical-align: top;\n",
       "    }\n",
       "</style>\n",
       "<table border=\"1\" class=\"dataframe\">\n",
       "  <thead>\n",
       "    <tr style=\"text-align: right;\">\n",
       "      <th></th>\n",
       "      <th>InvoiceNo</th>\n",
       "      <th>StockCode</th>\n",
       "      <th>Description</th>\n",
       "      <th>Quantity</th>\n",
       "      <th>InvoiceDate</th>\n",
       "      <th>UnitPrice</th>\n",
       "      <th>CustomerID</th>\n",
       "      <th>Country</th>\n",
       "      <th>Cleaned</th>\n",
       "      <th>ProductCategory</th>\n",
       "      <th>vectors</th>\n",
       "      <th>cluster</th>\n",
       "      <th>TotalAmount</th>\n",
       "      <th>C0</th>\n",
       "      <th>C1</th>\n",
       "      <th>C2</th>\n",
       "      <th>C3</th>\n",
       "      <th>C4</th>\n",
       "    </tr>\n",
       "  </thead>\n",
       "  <tbody>\n",
       "  </tbody>\n",
       "</table>\n",
       "</div>"
      ],
      "text/plain": [
       "Empty DataFrame\n",
       "Columns: [InvoiceNo, StockCode, Description, Quantity, InvoiceDate, UnitPrice, CustomerID, Country, Cleaned, ProductCategory, vectors, cluster, TotalAmount, C0, C1, C2, C3, C4]\n",
       "Index: []"
      ]
     },
     "execution_count": 12,
     "metadata": {},
     "output_type": "execute_result"
    }
   ],
   "source": [
    "merged_df.head(0)"
   ]
  },
  {
   "cell_type": "markdown",
   "metadata": {
    "deletable": true,
    "editable": true
   },
   "source": [
    "### Add the Month columns\n"
   ]
  },
  {
   "cell_type": "markdown",
   "metadata": {
    "deletable": true,
    "editable": true
   },
   "source": [
    "####  A. Add month column"
   ]
  },
  {
   "cell_type": "code",
   "execution_count": 13,
   "metadata": {
    "collapsed": false,
    "deletable": true,
    "editable": true
   },
   "outputs": [],
   "source": [
    "# change the invoice_date format - String to Timestamp format\n",
    "merged_df['InvoiceDate'] = pd.to_datetime(merged_df.InvoiceDate, format='%m/%d/%Y %H:%M')\n",
    "merged_df.insert(loc=4, column='month', value=merged_df.InvoiceDate.dt.month)"
   ]
  },
  {
   "cell_type": "markdown",
   "metadata": {
    "deletable": true,
    "editable": true
   },
   "source": [
    "#### B. Transform the DataFrame by adding new column for each month"
   ]
  },
  {
   "cell_type": "markdown",
   "metadata": {
    "deletable": true,
    "editable": true
   },
   "source": [
    "A new column for each month will be added"
   ]
  },
  {
   "cell_type": "code",
   "execution_count": 14,
   "metadata": {
    "collapsed": false,
    "deletable": true,
    "editable": true
   },
   "outputs": [
    {
     "data": {
      "text/html": [
       "<div>\n",
       "<style>\n",
       "    .dataframe thead tr:only-child th {\n",
       "        text-align: right;\n",
       "    }\n",
       "\n",
       "    .dataframe thead th {\n",
       "        text-align: left;\n",
       "    }\n",
       "\n",
       "    .dataframe tbody tr th {\n",
       "        vertical-align: top;\n",
       "    }\n",
       "</style>\n",
       "<table border=\"1\" class=\"dataframe\">\n",
       "  <thead>\n",
       "    <tr style=\"text-align: right;\">\n",
       "      <th></th>\n",
       "      <th>InvoiceNo</th>\n",
       "      <th>StockCode</th>\n",
       "      <th>Description</th>\n",
       "      <th>Quantity</th>\n",
       "      <th>month</th>\n",
       "      <th>InvoiceDate</th>\n",
       "      <th>UnitPrice</th>\n",
       "      <th>CustomerID</th>\n",
       "      <th>Country</th>\n",
       "      <th>Cleaned</th>\n",
       "      <th>...</th>\n",
       "      <th>3</th>\n",
       "      <th>4</th>\n",
       "      <th>5</th>\n",
       "      <th>6</th>\n",
       "      <th>7</th>\n",
       "      <th>8</th>\n",
       "      <th>9</th>\n",
       "      <th>10</th>\n",
       "      <th>11</th>\n",
       "      <th>12</th>\n",
       "    </tr>\n",
       "  </thead>\n",
       "  <tbody>\n",
       "    <tr>\n",
       "      <th>0</th>\n",
       "      <td>536365</td>\n",
       "      <td>85123A</td>\n",
       "      <td>WHITE HANGING HEART T-LIGHT HOLDER</td>\n",
       "      <td>6</td>\n",
       "      <td>12</td>\n",
       "      <td>2010-12-01 08:26:00</td>\n",
       "      <td>2.55</td>\n",
       "      <td>17850.0</td>\n",
       "      <td>United Kingdom</td>\n",
       "      <td>white hanging heart  light holder</td>\n",
       "      <td>...</td>\n",
       "      <td>0.0</td>\n",
       "      <td>0.0</td>\n",
       "      <td>0.0</td>\n",
       "      <td>0.0</td>\n",
       "      <td>0.0</td>\n",
       "      <td>0.0</td>\n",
       "      <td>0.0</td>\n",
       "      <td>0.0</td>\n",
       "      <td>0.0</td>\n",
       "      <td>15.30</td>\n",
       "    </tr>\n",
       "    <tr>\n",
       "      <th>1</th>\n",
       "      <td>536365</td>\n",
       "      <td>71053</td>\n",
       "      <td>WHITE METAL LANTERN</td>\n",
       "      <td>6</td>\n",
       "      <td>12</td>\n",
       "      <td>2010-12-01 08:26:00</td>\n",
       "      <td>3.39</td>\n",
       "      <td>17850.0</td>\n",
       "      <td>United Kingdom</td>\n",
       "      <td>white metal lantern</td>\n",
       "      <td>...</td>\n",
       "      <td>0.0</td>\n",
       "      <td>0.0</td>\n",
       "      <td>0.0</td>\n",
       "      <td>0.0</td>\n",
       "      <td>0.0</td>\n",
       "      <td>0.0</td>\n",
       "      <td>0.0</td>\n",
       "      <td>0.0</td>\n",
       "      <td>0.0</td>\n",
       "      <td>20.34</td>\n",
       "    </tr>\n",
       "  </tbody>\n",
       "</table>\n",
       "<p>2 rows × 31 columns</p>\n",
       "</div>"
      ],
      "text/plain": [
       "   InvoiceNo StockCode                         Description  Quantity  month  \\\n",
       "0     536365    85123A  WHITE HANGING HEART T-LIGHT HOLDER         6     12   \n",
       "1     536365     71053                 WHITE METAL LANTERN         6     12   \n",
       "\n",
       "          InvoiceDate  UnitPrice  CustomerID         Country  \\\n",
       "0 2010-12-01 08:26:00       2.55     17850.0  United Kingdom   \n",
       "1 2010-12-01 08:26:00       3.39     17850.0  United Kingdom   \n",
       "\n",
       "                             Cleaned  ...      3    4    5    6    7    8  \\\n",
       "0  white hanging heart  light holder  ...    0.0  0.0  0.0  0.0  0.0  0.0   \n",
       "1                white metal lantern  ...    0.0  0.0  0.0  0.0  0.0  0.0   \n",
       "\n",
       "     9   10   11     12  \n",
       "0  0.0  0.0  0.0  15.30  \n",
       "1  0.0  0.0  0.0  20.34  \n",
       "\n",
       "[2 rows x 31 columns]"
      ]
     },
     "execution_count": 14,
     "metadata": {},
     "output_type": "execute_result"
    }
   ],
   "source": [
    "dfout = (merged_df.pivot_table(index=[\"InvoiceNo\",\"StockCode\"],columns=\"month\", values='TotalAmount')\n",
    "            .reset_index())\n",
    "merged_df = merged_df.merge(dfout , how = 'outer', on = ['InvoiceNo','StockCode'])\n",
    "merged_df.fillna(0, inplace = True)\n",
    "merged_df.head(2)"
   ]
  },
  {
   "cell_type": "markdown",
   "metadata": {
    "deletable": true,
    "editable": true
   },
   "source": [
    "### Group the Data by Invoices"
   ]
  },
  {
   "cell_type": "markdown",
   "metadata": {
    "deletable": true,
    "editable": true
   },
   "source": [
    "Currenlty, the dataset contains information for each purchased items in different orders separately. So, I will group the dataset by cutumerID and InvoiceNo (which, together, represent one unique order) and I will add the following information: \n",
    "\n",
    "1. Total Price of the order (price of the total items)\n",
    "2. Total Number of purchased items in the order\n",
    "3. Total spending in each product category (all should sum-up to total price)\n",
    "4. Total spending in each month"
   ]
  },
  {
   "cell_type": "code",
   "execution_count": 15,
   "metadata": {
    "collapsed": false,
    "deletable": true,
    "editable": true,
    "scrolled": true
   },
   "outputs": [],
   "source": [
    "orderTotalPrice = merged_df.groupby(by=['CustomerID', 'InvoiceNo'], as_index=False)['TotalAmount'].sum()\n",
    "orderTotalItems = merged_df.groupby(by=['CustomerID', 'InvoiceNo'], as_index=False)['TotalAmount'].count()\n",
    "orderTotalItems.columns.values[2] = \"NumberOfProducts\""
   ]
  },
  {
   "cell_type": "code",
   "execution_count": 16,
   "metadata": {
    "collapsed": false,
    "deletable": true,
    "editable": true
   },
   "outputs": [],
   "source": [
    "#Ensure correct column names to avoid keyerror\n",
    "remove_wspaces(orderTotalItems)\n",
    "#Init new dataframe called extra_info and append all new informatin to it\n",
    "extra_info = orderTotalPrice\n",
    "#Append total number of products\n",
    "extra_info.loc[:,'NumberOfProducts']=orderTotalItems['NumberOfProducts']\n",
    "#Append sum of the money spent in each category per transaction/order\n",
    "frames = []\n",
    "for i in range(5): # will be changed depending on the total clusters we have\n",
    "    col = str('C'+str(i))\n",
    "    temp = merged_df.groupby(by=['CustomerID', 'InvoiceNo'], as_index=False)[col].sum()\n",
    "    frames.append(temp)\n",
    "    extra_info.loc[:, col] = temp"
   ]
  },
  {
   "cell_type": "code",
   "execution_count": 17,
   "metadata": {
    "collapsed": false,
    "deletable": true,
    "editable": true
   },
   "outputs": [
    {
     "name": "stdout",
     "output_type": "stream",
     "text": [
      "Total number of orders 18402\n"
     ]
    }
   ],
   "source": [
    "print(\"Total number of orders {}\".format(len(extra_info)))"
   ]
  },
  {
   "cell_type": "code",
   "execution_count": 18,
   "metadata": {
    "collapsed": false,
    "deletable": true,
    "editable": true
   },
   "outputs": [
    {
     "data": {
      "text/html": [
       "<div>\n",
       "<style>\n",
       "    .dataframe thead tr:only-child th {\n",
       "        text-align: right;\n",
       "    }\n",
       "\n",
       "    .dataframe thead th {\n",
       "        text-align: left;\n",
       "    }\n",
       "\n",
       "    .dataframe tbody tr th {\n",
       "        vertical-align: top;\n",
       "    }\n",
       "</style>\n",
       "<table border=\"1\" class=\"dataframe\">\n",
       "  <thead>\n",
       "    <tr style=\"text-align: right;\">\n",
       "      <th></th>\n",
       "      <th>CustomerID</th>\n",
       "      <th>InvoiceNo</th>\n",
       "      <th>TotalAmount</th>\n",
       "      <th>NumberOfProducts</th>\n",
       "      <th>C0</th>\n",
       "      <th>C1</th>\n",
       "      <th>C2</th>\n",
       "      <th>C3</th>\n",
       "      <th>C4</th>\n",
       "    </tr>\n",
       "  </thead>\n",
       "  <tbody>\n",
       "    <tr>\n",
       "      <th>0</th>\n",
       "      <td>12346.0</td>\n",
       "      <td>541431</td>\n",
       "      <td>77183.60</td>\n",
       "      <td>1</td>\n",
       "      <td>77183.60</td>\n",
       "      <td>0.00</td>\n",
       "      <td>0.0</td>\n",
       "      <td>0.0</td>\n",
       "      <td>0.00</td>\n",
       "    </tr>\n",
       "    <tr>\n",
       "      <th>1</th>\n",
       "      <td>12347.0</td>\n",
       "      <td>537626</td>\n",
       "      <td>711.79</td>\n",
       "      <td>31</td>\n",
       "      <td>488.04</td>\n",
       "      <td>117.25</td>\n",
       "      <td>0.0</td>\n",
       "      <td>22.5</td>\n",
       "      <td>84.00</td>\n",
       "    </tr>\n",
       "    <tr>\n",
       "      <th>2</th>\n",
       "      <td>12347.0</td>\n",
       "      <td>542237</td>\n",
       "      <td>475.39</td>\n",
       "      <td>29</td>\n",
       "      <td>340.15</td>\n",
       "      <td>51.00</td>\n",
       "      <td>8.5</td>\n",
       "      <td>47.9</td>\n",
       "      <td>27.84</td>\n",
       "    </tr>\n",
       "    <tr>\n",
       "      <th>3</th>\n",
       "      <td>12347.0</td>\n",
       "      <td>549222</td>\n",
       "      <td>636.25</td>\n",
       "      <td>24</td>\n",
       "      <td>462.45</td>\n",
       "      <td>91.40</td>\n",
       "      <td>17.0</td>\n",
       "      <td>35.4</td>\n",
       "      <td>30.00</td>\n",
       "    </tr>\n",
       "  </tbody>\n",
       "</table>\n",
       "</div>"
      ],
      "text/plain": [
       "   CustomerID  InvoiceNo  TotalAmount  NumberOfProducts        C0      C1  \\\n",
       "0     12346.0     541431     77183.60                 1  77183.60    0.00   \n",
       "1     12347.0     537626       711.79                31    488.04  117.25   \n",
       "2     12347.0     542237       475.39                29    340.15   51.00   \n",
       "3     12347.0     549222       636.25                24    462.45   91.40   \n",
       "\n",
       "     C2    C3     C4  \n",
       "0   0.0   0.0   0.00  \n",
       "1   0.0  22.5  84.00  \n",
       "2   8.5  47.9  27.84  \n",
       "3  17.0  35.4  30.00  "
      ]
     },
     "execution_count": 18,
     "metadata": {},
     "output_type": "execute_result"
    }
   ],
   "source": [
    "extra_info.head(4)"
   ]
  },
  {
   "cell_type": "code",
   "execution_count": 19,
   "metadata": {
    "collapsed": false,
    "deletable": true,
    "editable": true
   },
   "outputs": [
    {
     "data": {
      "text/plain": [
       "array(['InvoiceNo', 'StockCode', 'Description', 'Quantity', 'month',\n",
       "       'InvoiceDate', 'UnitPrice', 'CustomerID', 'Country', 'Cleaned',\n",
       "       'ProductCategory', 'vectors', 'cluster', 'TotalAmount', 'C0', 'C1',\n",
       "       'C2', 'C3', 'C4', 1, 2, 3, 4, 5, 6, 7, 8, 9, 10, 11, 12],\n",
       "      dtype=object)"
      ]
     },
     "execution_count": 19,
     "metadata": {},
     "output_type": "execute_result"
    }
   ],
   "source": [
    "merged_df.columns.values"
   ]
  },
  {
   "cell_type": "code",
   "execution_count": 20,
   "metadata": {
    "collapsed": true,
    "deletable": true,
    "editable": true
   },
   "outputs": [],
   "source": [
    "for i in range(13): #for months\n",
    "    col = i\n",
    "    if col in merged_df.columns.values:\n",
    "        temp = merged_df.groupby(by=['CustomerID', 'InvoiceNo'], as_index=False)[col].sum()\n",
    "        extra_info.loc[:, col] = temp"
   ]
  },
  {
   "cell_type": "code",
   "execution_count": 21,
   "metadata": {
    "collapsed": false,
    "deletable": true,
    "editable": true
   },
   "outputs": [
    {
     "data": {
      "text/plain": [
       "18402"
      ]
     },
     "execution_count": 21,
     "metadata": {},
     "output_type": "execute_result"
    }
   ],
   "source": [
    "len(extra_info)"
   ]
  },
  {
   "cell_type": "code",
   "execution_count": 22,
   "metadata": {
    "collapsed": false,
    "deletable": true,
    "editable": true,
    "scrolled": true
   },
   "outputs": [],
   "source": [
    "#Testing codes\n",
    "#merged_df[merged_df['CustomerID']==12347.0][merged_df['InvoiceNo']=='537626'][1].sum() #Total spending in product 1 \n",
    "#merged_df[merged_df['CustomerID']==12347.0][merged_df['InvoiceNo']=='537626']['StockCode'].count() #Number of purchased items\n",
    "#Number of unique purchased Items\n",
    "#merged_df[merged_df['CustomerID']==12350.0]['InvoiceNo'].value_counts()"
   ]
  },
  {
   "cell_type": "markdown",
   "metadata": {
    "deletable": true,
    "editable": true
   },
   "source": [
    "### Group the Data by Customers"
   ]
  },
  {
   "cell_type": "markdown",
   "metadata": {
    "deletable": true,
    "editable": true
   },
   "source": [
    "Currenlty, the dataset contains information for each order. Now I will transform the data so that each record represents a single customer’s purchase history. I will add the following information:\n",
    "\n",
    "1. Monetary (Total Spending in all orders)\n",
    "2. Frequency (Number of orders) \n",
    "3. Recency\n",
    "4. Avg spending per order \n",
    "5. Min spending per order\n",
    "6. Max spending per order\n",
    "7. Again, total spending in each product category across all orders\n",
    "8. Number of products (along with unique number of orders)"
   ]
  },
  {
   "cell_type": "markdown",
   "metadata": {
    "deletable": true,
    "editable": true
   },
   "source": [
    "#### Monetary and Frequancy"
   ]
  },
  {
   "cell_type": "markdown",
   "metadata": {
    "deletable": true,
    "editable": true
   },
   "source": [
    "I will add total spending (Monetry) along with min, max and mean of spending per order. I will also add the total number of transactions (Frequancy)"
   ]
  },
  {
   "cell_type": "code",
   "execution_count": 23,
   "metadata": {
    "collapsed": false,
    "deletable": true,
    "editable": true
   },
   "outputs": [],
   "source": [
    "#Get Aggss: min, max, avg and sum\n",
    "customers = extra_info.groupby(by=['CustomerID'], as_index=False)['TotalAmount'].agg(['count','min','max','mean','sum']).reset_index()"
   ]
  },
  {
   "cell_type": "code",
   "execution_count": 24,
   "metadata": {
    "collapsed": true,
    "deletable": true,
    "editable": true
   },
   "outputs": [],
   "source": [
    "customers = customers.rename(columns = {'count':'Frequancy','min':'MinSpendingPerOrder','max':'MaxSpendingPerOrder',\n",
    "                           'mean':'AvgSpendingPerOrder','sum':'Monetary'}, inplace = False)"
   ]
  },
  {
   "cell_type": "code",
   "execution_count": 25,
   "metadata": {
    "collapsed": false,
    "deletable": true,
    "editable": true
   },
   "outputs": [
    {
     "name": "stdout",
     "output_type": "stream",
     "text": [
      "Total number of customers 4334\n"
     ]
    }
   ],
   "source": [
    "print(\"Total number of customers {}\".format(len(customers)))"
   ]
  },
  {
   "cell_type": "markdown",
   "metadata": {
    "deletable": true,
    "editable": true
   },
   "source": [
    "#### Rececny"
   ]
  },
  {
   "cell_type": "markdown",
   "metadata": {
    "deletable": true,
    "editable": true
   },
   "source": [
    "We will be taking one day after the last invoice date of our data set as the snapshot date ‘2011–12–10 12:50:00’. The date difference will give us how recent the last transaction was made. "
   ]
  },
  {
   "cell_type": "code",
   "execution_count": 26,
   "metadata": {
    "collapsed": false,
    "deletable": true,
    "editable": true
   },
   "outputs": [
    {
     "name": "stdout",
     "output_type": "stream",
     "text": [
      "2011-12-10 12:50:00\n"
     ]
    }
   ],
   "source": [
    "# Create snapshot date\n",
    "import os \n",
    "import datetime\n",
    "from datetime import timedelta\n",
    "snapshot_date = merged_df['InvoiceDate'].max() + timedelta(days=1)\n",
    "print(snapshot_date)"
   ]
  },
  {
   "cell_type": "code",
   "execution_count": 27,
   "metadata": {
    "collapsed": false,
    "deletable": true,
    "editable": true
   },
   "outputs": [],
   "source": [
    "recency = merged_df.groupby(['CustomerID'], as_index = False).agg({'InvoiceDate': lambda x: (snapshot_date - x.max()).days})"
   ]
  },
  {
   "cell_type": "code",
   "execution_count": 28,
   "metadata": {
    "collapsed": false,
    "deletable": true,
    "editable": true
   },
   "outputs": [
    {
     "data": {
      "text/plain": [
       "4334"
      ]
     },
     "execution_count": 28,
     "metadata": {},
     "output_type": "execute_result"
    }
   ],
   "source": [
    "len(recency)"
   ]
  },
  {
   "cell_type": "code",
   "execution_count": 29,
   "metadata": {
    "collapsed": false,
    "deletable": true,
    "editable": true,
    "scrolled": true
   },
   "outputs": [
    {
     "data": {
      "text/plain": [
       "4334"
      ]
     },
     "execution_count": 29,
     "metadata": {},
     "output_type": "execute_result"
    }
   ],
   "source": [
    "len(customers)"
   ]
  },
  {
   "cell_type": "code",
   "execution_count": 30,
   "metadata": {
    "collapsed": false,
    "deletable": true,
    "editable": true
   },
   "outputs": [],
   "source": [
    "customers.loc[:,'Recency']= recency['InvoiceDate']"
   ]
  },
  {
   "cell_type": "code",
   "execution_count": 31,
   "metadata": {
    "collapsed": false,
    "deletable": true,
    "editable": true
   },
   "outputs": [
    {
     "data": {
      "text/html": [
       "<div>\n",
       "<style>\n",
       "    .dataframe thead tr:only-child th {\n",
       "        text-align: right;\n",
       "    }\n",
       "\n",
       "    .dataframe thead th {\n",
       "        text-align: left;\n",
       "    }\n",
       "\n",
       "    .dataframe tbody tr th {\n",
       "        vertical-align: top;\n",
       "    }\n",
       "</style>\n",
       "<table border=\"1\" class=\"dataframe\">\n",
       "  <thead>\n",
       "    <tr style=\"text-align: right;\">\n",
       "      <th></th>\n",
       "      <th># of nulls</th>\n",
       "      <th>% of nulls</th>\n",
       "      <th>Types</th>\n",
       "    </tr>\n",
       "  </thead>\n",
       "  <tbody>\n",
       "    <tr>\n",
       "      <th>CustomerID</th>\n",
       "      <td>0</td>\n",
       "      <td>0.0</td>\n",
       "      <td>float64</td>\n",
       "    </tr>\n",
       "    <tr>\n",
       "      <th>Frequancy</th>\n",
       "      <td>0</td>\n",
       "      <td>0.0</td>\n",
       "      <td>int64</td>\n",
       "    </tr>\n",
       "    <tr>\n",
       "      <th>MinSpendingPerOrder</th>\n",
       "      <td>0</td>\n",
       "      <td>0.0</td>\n",
       "      <td>float64</td>\n",
       "    </tr>\n",
       "    <tr>\n",
       "      <th>MaxSpendingPerOrder</th>\n",
       "      <td>0</td>\n",
       "      <td>0.0</td>\n",
       "      <td>float64</td>\n",
       "    </tr>\n",
       "    <tr>\n",
       "      <th>AvgSpendingPerOrder</th>\n",
       "      <td>0</td>\n",
       "      <td>0.0</td>\n",
       "      <td>float64</td>\n",
       "    </tr>\n",
       "    <tr>\n",
       "      <th>Monetary</th>\n",
       "      <td>0</td>\n",
       "      <td>0.0</td>\n",
       "      <td>float64</td>\n",
       "    </tr>\n",
       "    <tr>\n",
       "      <th>Recency</th>\n",
       "      <td>0</td>\n",
       "      <td>0.0</td>\n",
       "      <td>int64</td>\n",
       "    </tr>\n",
       "  </tbody>\n",
       "</table>\n",
       "</div>"
      ],
      "text/plain": [
       "                     # of nulls  % of nulls    Types\n",
       "CustomerID                    0         0.0  float64\n",
       "Frequancy                     0         0.0    int64\n",
       "MinSpendingPerOrder           0         0.0  float64\n",
       "MaxSpendingPerOrder           0         0.0  float64\n",
       "AvgSpendingPerOrder           0         0.0  float64\n",
       "Monetary                      0         0.0  float64\n",
       "Recency                       0         0.0    int64"
      ]
     },
     "execution_count": 31,
     "metadata": {},
     "output_type": "execute_result"
    }
   ],
   "source": [
    "info_(customers)"
   ]
  },
  {
   "cell_type": "markdown",
   "metadata": {
    "deletable": true,
    "editable": true
   },
   "source": [
    "\n",
    "- Avg Number of unique products per order\n",
    "- Avg Number of products per order \n",
    "- Number of total products bought by user in all orders "
   ]
  },
  {
   "cell_type": "code",
   "execution_count": 32,
   "metadata": {
    "collapsed": false,
    "deletable": true,
    "editable": true
   },
   "outputs": [
    {
     "data": {
      "text/html": [
       "<div>\n",
       "<style>\n",
       "    .dataframe thead tr:only-child th {\n",
       "        text-align: right;\n",
       "    }\n",
       "\n",
       "    .dataframe thead th {\n",
       "        text-align: left;\n",
       "    }\n",
       "\n",
       "    .dataframe tbody tr th {\n",
       "        vertical-align: top;\n",
       "    }\n",
       "</style>\n",
       "<table border=\"1\" class=\"dataframe\">\n",
       "  <thead>\n",
       "    <tr style=\"text-align: right;\">\n",
       "      <th></th>\n",
       "      <th>CustomerID</th>\n",
       "      <th>Frequancy</th>\n",
       "      <th>MinSpendingPerOrder</th>\n",
       "      <th>MaxSpendingPerOrder</th>\n",
       "      <th>AvgSpendingPerOrder</th>\n",
       "      <th>Monetary</th>\n",
       "      <th>Recency</th>\n",
       "      <th>UniqueNumberOfProductsPerOrder</th>\n",
       "      <th>NumberOfProducts</th>\n",
       "      <th>AvgProductsPerOrder</th>\n",
       "    </tr>\n",
       "  </thead>\n",
       "  <tbody>\n",
       "    <tr>\n",
       "      <th>0</th>\n",
       "      <td>12346.0</td>\n",
       "      <td>1</td>\n",
       "      <td>77183.60</td>\n",
       "      <td>77183.60</td>\n",
       "      <td>77183.600000</td>\n",
       "      <td>77183.60</td>\n",
       "      <td>326</td>\n",
       "      <td>1</td>\n",
       "      <td>1</td>\n",
       "      <td>1.000000</td>\n",
       "    </tr>\n",
       "    <tr>\n",
       "      <th>1</th>\n",
       "      <td>12347.0</td>\n",
       "      <td>7</td>\n",
       "      <td>224.82</td>\n",
       "      <td>1294.32</td>\n",
       "      <td>615.714286</td>\n",
       "      <td>4310.00</td>\n",
       "      <td>2</td>\n",
       "      <td>103</td>\n",
       "      <td>182</td>\n",
       "      <td>26.000000</td>\n",
       "    </tr>\n",
       "    <tr>\n",
       "      <th>2</th>\n",
       "      <td>12348.0</td>\n",
       "      <td>4</td>\n",
       "      <td>187.44</td>\n",
       "      <td>652.80</td>\n",
       "      <td>359.310000</td>\n",
       "      <td>1437.24</td>\n",
       "      <td>75</td>\n",
       "      <td>21</td>\n",
       "      <td>27</td>\n",
       "      <td>6.750000</td>\n",
       "    </tr>\n",
       "    <tr>\n",
       "      <th>3</th>\n",
       "      <td>12349.0</td>\n",
       "      <td>1</td>\n",
       "      <td>1457.55</td>\n",
       "      <td>1457.55</td>\n",
       "      <td>1457.550000</td>\n",
       "      <td>1457.55</td>\n",
       "      <td>19</td>\n",
       "      <td>72</td>\n",
       "      <td>72</td>\n",
       "      <td>72.000000</td>\n",
       "    </tr>\n",
       "    <tr>\n",
       "      <th>4</th>\n",
       "      <td>12350.0</td>\n",
       "      <td>1</td>\n",
       "      <td>294.40</td>\n",
       "      <td>294.40</td>\n",
       "      <td>294.400000</td>\n",
       "      <td>294.40</td>\n",
       "      <td>310</td>\n",
       "      <td>16</td>\n",
       "      <td>16</td>\n",
       "      <td>16.000000</td>\n",
       "    </tr>\n",
       "    <tr>\n",
       "      <th>5</th>\n",
       "      <td>12352.0</td>\n",
       "      <td>7</td>\n",
       "      <td>104.35</td>\n",
       "      <td>296.50</td>\n",
       "      <td>197.962857</td>\n",
       "      <td>1385.74</td>\n",
       "      <td>36</td>\n",
       "      <td>57</td>\n",
       "      <td>77</td>\n",
       "      <td>11.000000</td>\n",
       "    </tr>\n",
       "    <tr>\n",
       "      <th>6</th>\n",
       "      <td>12353.0</td>\n",
       "      <td>1</td>\n",
       "      <td>89.00</td>\n",
       "      <td>89.00</td>\n",
       "      <td>89.000000</td>\n",
       "      <td>89.00</td>\n",
       "      <td>204</td>\n",
       "      <td>4</td>\n",
       "      <td>4</td>\n",
       "      <td>4.000000</td>\n",
       "    </tr>\n",
       "    <tr>\n",
       "      <th>7</th>\n",
       "      <td>12354.0</td>\n",
       "      <td>1</td>\n",
       "      <td>1079.40</td>\n",
       "      <td>1079.40</td>\n",
       "      <td>1079.400000</td>\n",
       "      <td>1079.40</td>\n",
       "      <td>232</td>\n",
       "      <td>58</td>\n",
       "      <td>58</td>\n",
       "      <td>58.000000</td>\n",
       "    </tr>\n",
       "    <tr>\n",
       "      <th>8</th>\n",
       "      <td>12355.0</td>\n",
       "      <td>1</td>\n",
       "      <td>459.40</td>\n",
       "      <td>459.40</td>\n",
       "      <td>459.400000</td>\n",
       "      <td>459.40</td>\n",
       "      <td>214</td>\n",
       "      <td>13</td>\n",
       "      <td>13</td>\n",
       "      <td>13.000000</td>\n",
       "    </tr>\n",
       "    <tr>\n",
       "      <th>9</th>\n",
       "      <td>12356.0</td>\n",
       "      <td>3</td>\n",
       "      <td>58.35</td>\n",
       "      <td>1947.62</td>\n",
       "      <td>829.143333</td>\n",
       "      <td>2487.43</td>\n",
       "      <td>23</td>\n",
       "      <td>52</td>\n",
       "      <td>58</td>\n",
       "      <td>19.333333</td>\n",
       "    </tr>\n",
       "  </tbody>\n",
       "</table>\n",
       "</div>"
      ],
      "text/plain": [
       "   CustomerID  Frequancy  MinSpendingPerOrder  MaxSpendingPerOrder  \\\n",
       "0     12346.0          1             77183.60             77183.60   \n",
       "1     12347.0          7               224.82              1294.32   \n",
       "2     12348.0          4               187.44               652.80   \n",
       "3     12349.0          1              1457.55              1457.55   \n",
       "4     12350.0          1               294.40               294.40   \n",
       "5     12352.0          7               104.35               296.50   \n",
       "6     12353.0          1                89.00                89.00   \n",
       "7     12354.0          1              1079.40              1079.40   \n",
       "8     12355.0          1               459.40               459.40   \n",
       "9     12356.0          3                58.35              1947.62   \n",
       "\n",
       "   AvgSpendingPerOrder  Monetary  Recency  UniqueNumberOfProductsPerOrder  \\\n",
       "0         77183.600000  77183.60      326                               1   \n",
       "1           615.714286   4310.00        2                             103   \n",
       "2           359.310000   1437.24       75                              21   \n",
       "3          1457.550000   1457.55       19                              72   \n",
       "4           294.400000    294.40      310                              16   \n",
       "5           197.962857   1385.74       36                              57   \n",
       "6            89.000000     89.00      204                               4   \n",
       "7          1079.400000   1079.40      232                              58   \n",
       "8           459.400000    459.40      214                              13   \n",
       "9           829.143333   2487.43       23                              52   \n",
       "\n",
       "   NumberOfProducts  AvgProductsPerOrder  \n",
       "0                 1             1.000000  \n",
       "1               182            26.000000  \n",
       "2                27             6.750000  \n",
       "3                72            72.000000  \n",
       "4                16            16.000000  \n",
       "5                77            11.000000  \n",
       "6                 4             4.000000  \n",
       "7                58            58.000000  \n",
       "8                13            13.000000  \n",
       "9                58            19.333333  "
      ]
     },
     "execution_count": 32,
     "metadata": {},
     "output_type": "execute_result"
    }
   ],
   "source": [
    "#Add total proudcts bought by user\n",
    "NumberOfProductsPerUser = extra_info.groupby(by=['CustomerID'], as_index=False)['NumberOfProducts'].sum()\n",
    "UniqueNumberOfProductsPerUser = merged_df.groupby(by=['CustomerID'], as_index=True).apply(lambda x: x.StockCode.nunique())\n",
    "UniqueNumberOfProductsPerUser = pd.DataFrame(UniqueNumberOfProductsPerUser).reset_index()\n",
    "NumberOfProductsPerTransaction = merged_df.groupby(by=['CustomerID', 'InvoiceNo'], as_index=False)['StockCode'].count()\n",
    "AvgNumberOfProductsPerTransaction = NumberOfProductsPerTransaction.groupby(by=['CustomerID'], as_index=False)['StockCode'].mean()\n",
    "#Append\n",
    "customers.loc[:,'UniqueNumberOfProductsPerOrder'] = UniqueNumberOfProductsPerUser[0] \n",
    "customers.loc[:,'NumberOfProducts'] = NumberOfProductsPerUser\n",
    "customers.loc[:,\"AvgProductsPerOrder\"] = AvgNumberOfProductsPerTransaction['StockCode']\n",
    "#Check\n",
    "customers.head(10)"
   ]
  },
  {
   "cell_type": "markdown",
   "metadata": {
    "deletable": true,
    "editable": true
   },
   "source": [
    "#### Total spending in each product category "
   ]
  },
  {
   "cell_type": "code",
   "execution_count": 33,
   "metadata": {
    "collapsed": false,
    "deletable": true,
    "editable": true
   },
   "outputs": [],
   "source": [
    "#Total Spending in each category\n",
    "for i in range(5): #3 will be changed depending on the total clusters we have\n",
    "    col = str('C'+str(i))\n",
    "    t = extra_info.groupby(by=['CustomerID'], as_index=False)[col].sum().reset_index()\n",
    "    customers.loc[:, col] = t "
   ]
  },
  {
   "cell_type": "markdown",
   "metadata": {
    "deletable": true,
    "editable": true
   },
   "source": [
    "#### Total spending in each month "
   ]
  },
  {
   "cell_type": "code",
   "execution_count": 34,
   "metadata": {
    "collapsed": true,
    "deletable": true,
    "editable": true
   },
   "outputs": [],
   "source": [
    "for i in range(13): #for months\n",
    "    col = i\n",
    "    if col in extra_info.columns.values:\n",
    "        t = extra_info.groupby(by=['CustomerID'], as_index=False)[col].sum().reset_index()\n",
    "        customers.loc[:, col] = t"
   ]
  },
  {
   "cell_type": "code",
   "execution_count": 35,
   "metadata": {
    "collapsed": false,
    "deletable": true,
    "editable": true
   },
   "outputs": [
    {
     "data": {
      "text/html": [
       "<div>\n",
       "<style>\n",
       "    .dataframe thead tr:only-child th {\n",
       "        text-align: right;\n",
       "    }\n",
       "\n",
       "    .dataframe thead th {\n",
       "        text-align: left;\n",
       "    }\n",
       "\n",
       "    .dataframe tbody tr th {\n",
       "        vertical-align: top;\n",
       "    }\n",
       "</style>\n",
       "<table border=\"1\" class=\"dataframe\">\n",
       "  <thead>\n",
       "    <tr style=\"text-align: right;\">\n",
       "      <th></th>\n",
       "      <th>CustomerID</th>\n",
       "      <th>Frequancy</th>\n",
       "      <th>MinSpendingPerOrder</th>\n",
       "      <th>MaxSpendingPerOrder</th>\n",
       "      <th>AvgSpendingPerOrder</th>\n",
       "      <th>Monetary</th>\n",
       "      <th>Recency</th>\n",
       "      <th>UniqueNumberOfProductsPerOrder</th>\n",
       "      <th>NumberOfProducts</th>\n",
       "      <th>AvgProductsPerOrder</th>\n",
       "      <th>...</th>\n",
       "      <th>3</th>\n",
       "      <th>4</th>\n",
       "      <th>5</th>\n",
       "      <th>6</th>\n",
       "      <th>7</th>\n",
       "      <th>8</th>\n",
       "      <th>9</th>\n",
       "      <th>10</th>\n",
       "      <th>11</th>\n",
       "      <th>12</th>\n",
       "    </tr>\n",
       "  </thead>\n",
       "  <tbody>\n",
       "  </tbody>\n",
       "</table>\n",
       "<p>0 rows × 27 columns</p>\n",
       "</div>"
      ],
      "text/plain": [
       "Empty DataFrame\n",
       "Columns: [CustomerID, Frequancy, MinSpendingPerOrder, MaxSpendingPerOrder, AvgSpendingPerOrder, Monetary, Recency, UniqueNumberOfProductsPerOrder, NumberOfProducts, AvgProductsPerOrder, C0, C1, C2, C3, C4, 1, 2, 3, 4, 5, 6, 7, 8, 9, 10, 11, 12]\n",
       "Index: []\n",
       "\n",
       "[0 rows x 27 columns]"
      ]
     },
     "execution_count": 35,
     "metadata": {},
     "output_type": "execute_result"
    }
   ],
   "source": [
    "customers.head(0)"
   ]
  },
  {
   "cell_type": "code",
   "execution_count": 36,
   "metadata": {
    "collapsed": false,
    "deletable": true,
    "editable": true
   },
   "outputs": [
    {
     "data": {
      "text/plain": [
       "1     130.139972\n",
       "2     102.294882\n",
       "3     134.878369\n",
       "4     105.045434\n",
       "5     152.395455\n",
       "6     150.999668\n",
       "7     136.763244\n",
       "12    249.358826\n",
       "dtype: float64"
      ]
     },
     "execution_count": 36,
     "metadata": {},
     "output_type": "execute_result"
    }
   ],
   "source": [
    "#check\n",
    "customers[[1,2,3,4,5,6,7,12]].mean()"
   ]
  },
  {
   "cell_type": "markdown",
   "metadata": {
    "deletable": true,
    "editable": true
   },
   "source": [
    "# 2. Customers Clustring"
   ]
  },
  {
   "cell_type": "markdown",
   "metadata": {
    "deletable": true,
    "editable": true
   },
   "source": [
    "We will segment our custumors using kmeans algorthim on their purchasing habits. Specifically, we will consider RFM along with average spending per order. It should be noted that I have conducted few experiments with different subset of variables (I took spending per category/month into consideration) but the results didn't give me useful insights (in business perspective).\n",
    "\n",
    "\n",
    "## K means\n",
    "\n",
    "K-Means is a a simple unsupervised machine learning algorithm that identifies k number of centroids, and then allocates every data point to the nearest cluster, while keeping the centroids as small as possible."
   ]
  },
  {
   "cell_type": "markdown",
   "metadata": {
    "deletable": true,
    "editable": true
   },
   "source": [
    "### Load the dataset"
   ]
  },
  {
   "cell_type": "code",
   "execution_count": 62,
   "metadata": {
    "collapsed": true,
    "deletable": true,
    "editable": true
   },
   "outputs": [],
   "source": [
    "#Load our features dataset\n",
    "features = customers"
   ]
  },
  {
   "cell_type": "code",
   "execution_count": 63,
   "metadata": {
    "collapsed": false,
    "deletable": true,
    "editable": true
   },
   "outputs": [
    {
     "data": {
      "text/plain": [
       "4334"
      ]
     },
     "execution_count": 63,
     "metadata": {},
     "output_type": "execute_result"
    }
   ],
   "source": [
    "len(customers)"
   ]
  },
  {
   "cell_type": "code",
   "execution_count": 64,
   "metadata": {
    "collapsed": false,
    "deletable": true,
    "editable": true
   },
   "outputs": [
    {
     "data": {
      "text/html": [
       "<div>\n",
       "<style>\n",
       "    .dataframe thead tr:only-child th {\n",
       "        text-align: right;\n",
       "    }\n",
       "\n",
       "    .dataframe thead th {\n",
       "        text-align: left;\n",
       "    }\n",
       "\n",
       "    .dataframe tbody tr th {\n",
       "        vertical-align: top;\n",
       "    }\n",
       "</style>\n",
       "<table border=\"1\" class=\"dataframe\">\n",
       "  <thead>\n",
       "    <tr style=\"text-align: right;\">\n",
       "      <th></th>\n",
       "      <th># of nulls</th>\n",
       "      <th>% of nulls</th>\n",
       "      <th>Types</th>\n",
       "    </tr>\n",
       "  </thead>\n",
       "  <tbody>\n",
       "    <tr>\n",
       "      <th>CustomerID</th>\n",
       "      <td>0</td>\n",
       "      <td>0.0</td>\n",
       "      <td>float64</td>\n",
       "    </tr>\n",
       "    <tr>\n",
       "      <th>Frequancy</th>\n",
       "      <td>0</td>\n",
       "      <td>0.0</td>\n",
       "      <td>int64</td>\n",
       "    </tr>\n",
       "    <tr>\n",
       "      <th>MinSpendingPerOrder</th>\n",
       "      <td>0</td>\n",
       "      <td>0.0</td>\n",
       "      <td>float64</td>\n",
       "    </tr>\n",
       "    <tr>\n",
       "      <th>MaxSpendingPerOrder</th>\n",
       "      <td>0</td>\n",
       "      <td>0.0</td>\n",
       "      <td>float64</td>\n",
       "    </tr>\n",
       "    <tr>\n",
       "      <th>AvgSpendingPerOrder</th>\n",
       "      <td>0</td>\n",
       "      <td>0.0</td>\n",
       "      <td>float64</td>\n",
       "    </tr>\n",
       "    <tr>\n",
       "      <th>Monetary</th>\n",
       "      <td>0</td>\n",
       "      <td>0.0</td>\n",
       "      <td>float64</td>\n",
       "    </tr>\n",
       "    <tr>\n",
       "      <th>Recency</th>\n",
       "      <td>0</td>\n",
       "      <td>0.0</td>\n",
       "      <td>int64</td>\n",
       "    </tr>\n",
       "    <tr>\n",
       "      <th>UniqueNumberOfProductsPerOrder</th>\n",
       "      <td>0</td>\n",
       "      <td>0.0</td>\n",
       "      <td>int64</td>\n",
       "    </tr>\n",
       "    <tr>\n",
       "      <th>NumberOfProducts</th>\n",
       "      <td>0</td>\n",
       "      <td>0.0</td>\n",
       "      <td>int64</td>\n",
       "    </tr>\n",
       "    <tr>\n",
       "      <th>AvgProductsPerOrder</th>\n",
       "      <td>0</td>\n",
       "      <td>0.0</td>\n",
       "      <td>float64</td>\n",
       "    </tr>\n",
       "    <tr>\n",
       "      <th>C0</th>\n",
       "      <td>0</td>\n",
       "      <td>0.0</td>\n",
       "      <td>float64</td>\n",
       "    </tr>\n",
       "    <tr>\n",
       "      <th>C1</th>\n",
       "      <td>0</td>\n",
       "      <td>0.0</td>\n",
       "      <td>float64</td>\n",
       "    </tr>\n",
       "    <tr>\n",
       "      <th>C2</th>\n",
       "      <td>0</td>\n",
       "      <td>0.0</td>\n",
       "      <td>float64</td>\n",
       "    </tr>\n",
       "    <tr>\n",
       "      <th>C3</th>\n",
       "      <td>0</td>\n",
       "      <td>0.0</td>\n",
       "      <td>float64</td>\n",
       "    </tr>\n",
       "    <tr>\n",
       "      <th>C4</th>\n",
       "      <td>0</td>\n",
       "      <td>0.0</td>\n",
       "      <td>float64</td>\n",
       "    </tr>\n",
       "    <tr>\n",
       "      <th>1</th>\n",
       "      <td>0</td>\n",
       "      <td>0.0</td>\n",
       "      <td>float64</td>\n",
       "    </tr>\n",
       "    <tr>\n",
       "      <th>2</th>\n",
       "      <td>0</td>\n",
       "      <td>0.0</td>\n",
       "      <td>float64</td>\n",
       "    </tr>\n",
       "    <tr>\n",
       "      <th>3</th>\n",
       "      <td>0</td>\n",
       "      <td>0.0</td>\n",
       "      <td>float64</td>\n",
       "    </tr>\n",
       "    <tr>\n",
       "      <th>4</th>\n",
       "      <td>0</td>\n",
       "      <td>0.0</td>\n",
       "      <td>float64</td>\n",
       "    </tr>\n",
       "    <tr>\n",
       "      <th>5</th>\n",
       "      <td>0</td>\n",
       "      <td>0.0</td>\n",
       "      <td>float64</td>\n",
       "    </tr>\n",
       "    <tr>\n",
       "      <th>6</th>\n",
       "      <td>0</td>\n",
       "      <td>0.0</td>\n",
       "      <td>float64</td>\n",
       "    </tr>\n",
       "    <tr>\n",
       "      <th>7</th>\n",
       "      <td>0</td>\n",
       "      <td>0.0</td>\n",
       "      <td>float64</td>\n",
       "    </tr>\n",
       "    <tr>\n",
       "      <th>8</th>\n",
       "      <td>0</td>\n",
       "      <td>0.0</td>\n",
       "      <td>float64</td>\n",
       "    </tr>\n",
       "    <tr>\n",
       "      <th>9</th>\n",
       "      <td>0</td>\n",
       "      <td>0.0</td>\n",
       "      <td>float64</td>\n",
       "    </tr>\n",
       "    <tr>\n",
       "      <th>10</th>\n",
       "      <td>0</td>\n",
       "      <td>0.0</td>\n",
       "      <td>float64</td>\n",
       "    </tr>\n",
       "    <tr>\n",
       "      <th>11</th>\n",
       "      <td>0</td>\n",
       "      <td>0.0</td>\n",
       "      <td>float64</td>\n",
       "    </tr>\n",
       "    <tr>\n",
       "      <th>12</th>\n",
       "      <td>0</td>\n",
       "      <td>0.0</td>\n",
       "      <td>float64</td>\n",
       "    </tr>\n",
       "  </tbody>\n",
       "</table>\n",
       "</div>"
      ],
      "text/plain": [
       "                                # of nulls  % of nulls    Types\n",
       "CustomerID                               0         0.0  float64\n",
       "Frequancy                                0         0.0    int64\n",
       "MinSpendingPerOrder                      0         0.0  float64\n",
       "MaxSpendingPerOrder                      0         0.0  float64\n",
       "AvgSpendingPerOrder                      0         0.0  float64\n",
       "Monetary                                 0         0.0  float64\n",
       "Recency                                  0         0.0    int64\n",
       "UniqueNumberOfProductsPerOrder           0         0.0    int64\n",
       "NumberOfProducts                         0         0.0    int64\n",
       "AvgProductsPerOrder                      0         0.0  float64\n",
       "C0                                       0         0.0  float64\n",
       "C1                                       0         0.0  float64\n",
       "C2                                       0         0.0  float64\n",
       "C3                                       0         0.0  float64\n",
       "C4                                       0         0.0  float64\n",
       "1                                        0         0.0  float64\n",
       "2                                        0         0.0  float64\n",
       "3                                        0         0.0  float64\n",
       "4                                        0         0.0  float64\n",
       "5                                        0         0.0  float64\n",
       "6                                        0         0.0  float64\n",
       "7                                        0         0.0  float64\n",
       "8                                        0         0.0  float64\n",
       "9                                        0         0.0  float64\n",
       "10                                       0         0.0  float64\n",
       "11                                       0         0.0  float64\n",
       "12                                       0         0.0  float64"
      ]
     },
     "execution_count": 64,
     "metadata": {},
     "output_type": "execute_result"
    }
   ],
   "source": [
    "info_(features)"
   ]
  },
  {
   "cell_type": "markdown",
   "metadata": {
    "deletable": true,
    "editable": true
   },
   "source": [
    "### Detect outliers"
   ]
  },
  {
   "cell_type": "code",
   "execution_count": 65,
   "metadata": {
    "collapsed": false,
    "deletable": true,
    "editable": true,
    "scrolled": true
   },
   "outputs": [
    {
     "data": {
      "text/plain": [
       "<matplotlib.axes._subplots.AxesSubplot at 0x21d80fe5c18>"
      ]
     },
     "execution_count": 65,
     "metadata": {},
     "output_type": "execute_result"
    },
    {
     "data": {
      "image/png": "[encoded data removed]",
      "text/plain": [
       "<matplotlib.figure.Figure at 0x21d80fe5eb8>"
      ]
     },
     "metadata": {
      "needs_background": "light"
     },
     "output_type": "display_data"
    }
   ],
   "source": [
    "features.iloc[:,5:6].boxplot()"
   ]
  },
  {
   "cell_type": "code",
   "execution_count": 66,
   "metadata": {
    "collapsed": false,
    "deletable": true,
    "editable": true,
    "scrolled": true
   },
   "outputs": [],
   "source": [
    "TQ1 = features['Monetary'].quantile(0.25)\n",
    "TQ3 = features['Monetary'].quantile(0.95)\n",
    "TIQR = TQ3 - TQ1\n",
    "low = TQ1 - (1.5*TIQR)\n",
    "high = TQ3 + (1.5*TIQR)"
   ]
  },
  {
   "cell_type": "markdown",
   "metadata": {
    "deletable": true,
    "editable": true
   },
   "source": [
    "Any value below Q1-1.5*IQR or above Q3+1.5*IQR is an Outlier"
   ]
  },
  {
   "cell_type": "code",
   "execution_count": 67,
   "metadata": {
    "collapsed": false,
    "deletable": true,
    "editable": true
   },
   "outputs": [],
   "source": [
    "#Exclude outliers in total spending\n",
    "normal = features[(features['Monetary'] >= low) & (features['Monetary'] <= high)]"
   ]
  },
  {
   "cell_type": "code",
   "execution_count": 68,
   "metadata": {
    "collapsed": false,
    "deletable": true,
    "editable": true
   },
   "outputs": [
    {
     "name": "stdout",
     "output_type": "stream",
     "text": [
      "Number of customers after deleting outliers 4271\n"
     ]
    }
   ],
   "source": [
    "print(\"Number of customers after deleting outliers {}\".format(len(normal)))"
   ]
  },
  {
   "cell_type": "markdown",
   "metadata": {
    "deletable": true,
    "editable": true
   },
   "source": [
    "### Keep a complete version of the features for further analysis after applying K-means"
   ]
  },
  {
   "cell_type": "code",
   "execution_count": 69,
   "metadata": {
    "collapsed": false,
    "deletable": true,
    "editable": true
   },
   "outputs": [],
   "source": [
    "#all_features = features.drop(['NumberOfProducts','UniqueNumberOfProducts','MinSpendingPerTransaction','MaxSpendingPerTransaction'],axis=1)\n",
    "all_features = normal #drop(['NumberOfProducts','MinSpendingPerTransaction','MaxSpendingPerTransaction'],axis=1)"
   ]
  },
  {
   "cell_type": "code",
   "execution_count": 70,
   "metadata": {
    "collapsed": false,
    "deletable": true,
    "editable": true,
    "scrolled": false
   },
   "outputs": [
    {
     "data": {
      "text/html": [
       "<div>\n",
       "<style>\n",
       "    .dataframe thead tr:only-child th {\n",
       "        text-align: right;\n",
       "    }\n",
       "\n",
       "    .dataframe thead th {\n",
       "        text-align: left;\n",
       "    }\n",
       "\n",
       "    .dataframe tbody tr th {\n",
       "        vertical-align: top;\n",
       "    }\n",
       "</style>\n",
       "<table border=\"1\" class=\"dataframe\">\n",
       "  <thead>\n",
       "    <tr style=\"text-align: right;\">\n",
       "      <th></th>\n",
       "      <th>Frequancy</th>\n",
       "      <th>AvgSpendingPerOrder</th>\n",
       "      <th>Monetary</th>\n",
       "      <th>Recency</th>\n",
       "      <th>UniqueNumberOfProductsPerOrder</th>\n",
       "      <th>AvgProductsPerOrder</th>\n",
       "    </tr>\n",
       "  </thead>\n",
       "  <tbody>\n",
       "  </tbody>\n",
       "</table>\n",
       "</div>"
      ],
      "text/plain": [
       "Empty DataFrame\n",
       "Columns: [Frequancy, AvgSpendingPerOrder, Monetary, Recency, UniqueNumberOfProductsPerOrder, AvgProductsPerOrder]\n",
       "Index: []"
      ]
     },
     "execution_count": 70,
     "metadata": {},
     "output_type": "execute_result"
    }
   ],
   "source": [
    "#Exclude some columns before applying kmeans\n",
    "features = normal.drop(['CustomerID','NumberOfProducts','MinSpendingPerOrder','MaxSpendingPerOrder','C0','C1','C2','C3','C4',1,2,3,4,5,6,6,7,8,9,10,11,12],axis=1)\n",
    "features.head(0)"
   ]
  },
  {
   "cell_type": "code",
   "execution_count": 71,
   "metadata": {
    "collapsed": false,
    "deletable": true,
    "editable": true
   },
   "outputs": [
    {
     "data": {
      "text/html": [
       "<div>\n",
       "<style>\n",
       "    .dataframe thead tr:only-child th {\n",
       "        text-align: right;\n",
       "    }\n",
       "\n",
       "    .dataframe thead th {\n",
       "        text-align: left;\n",
       "    }\n",
       "\n",
       "    .dataframe tbody tr th {\n",
       "        vertical-align: top;\n",
       "    }\n",
       "</style>\n",
       "<table border=\"1\" class=\"dataframe\">\n",
       "  <thead>\n",
       "    <tr style=\"text-align: right;\">\n",
       "      <th></th>\n",
       "      <th># of nulls</th>\n",
       "      <th>% of nulls</th>\n",
       "      <th>Types</th>\n",
       "    </tr>\n",
       "  </thead>\n",
       "  <tbody>\n",
       "    <tr>\n",
       "      <th>Frequancy</th>\n",
       "      <td>0</td>\n",
       "      <td>0.0</td>\n",
       "      <td>int64</td>\n",
       "    </tr>\n",
       "    <tr>\n",
       "      <th>AvgSpendingPerOrder</th>\n",
       "      <td>0</td>\n",
       "      <td>0.0</td>\n",
       "      <td>float64</td>\n",
       "    </tr>\n",
       "    <tr>\n",
       "      <th>Monetary</th>\n",
       "      <td>0</td>\n",
       "      <td>0.0</td>\n",
       "      <td>float64</td>\n",
       "    </tr>\n",
       "    <tr>\n",
       "      <th>Recency</th>\n",
       "      <td>0</td>\n",
       "      <td>0.0</td>\n",
       "      <td>int64</td>\n",
       "    </tr>\n",
       "    <tr>\n",
       "      <th>UniqueNumberOfProductsPerOrder</th>\n",
       "      <td>0</td>\n",
       "      <td>0.0</td>\n",
       "      <td>int64</td>\n",
       "    </tr>\n",
       "    <tr>\n",
       "      <th>AvgProductsPerOrder</th>\n",
       "      <td>0</td>\n",
       "      <td>0.0</td>\n",
       "      <td>float64</td>\n",
       "    </tr>\n",
       "  </tbody>\n",
       "</table>\n",
       "</div>"
      ],
      "text/plain": [
       "                                # of nulls  % of nulls    Types\n",
       "Frequancy                                0         0.0    int64\n",
       "AvgSpendingPerOrder                      0         0.0  float64\n",
       "Monetary                                 0         0.0  float64\n",
       "Recency                                  0         0.0    int64\n",
       "UniqueNumberOfProductsPerOrder           0         0.0    int64\n",
       "AvgProductsPerOrder                      0         0.0  float64"
      ]
     },
     "execution_count": 71,
     "metadata": {},
     "output_type": "execute_result"
    }
   ],
   "source": [
    "info_(features)"
   ]
  },
  {
   "cell_type": "markdown",
   "metadata": {
    "deletable": true,
    "editable": true
   },
   "source": [
    "### Analyze key statistics of the dataset"
   ]
  },
  {
   "cell_type": "markdown",
   "metadata": {
    "deletable": true,
    "editable": true
   },
   "source": [
    "Check mean and standard\n",
    "deviation"
   ]
  },
  {
   "cell_type": "code",
   "execution_count": 72,
   "metadata": {
    "collapsed": false,
    "deletable": true,
    "editable": true
   },
   "outputs": [
    {
     "data": {
      "text/html": [
       "<div>\n",
       "<style>\n",
       "    .dataframe thead tr:only-child th {\n",
       "        text-align: right;\n",
       "    }\n",
       "\n",
       "    .dataframe thead th {\n",
       "        text-align: left;\n",
       "    }\n",
       "\n",
       "    .dataframe tbody tr th {\n",
       "        vertical-align: top;\n",
       "    }\n",
       "</style>\n",
       "<table border=\"1\" class=\"dataframe\">\n",
       "  <thead>\n",
       "    <tr style=\"text-align: right;\">\n",
       "      <th></th>\n",
       "      <th>Frequancy</th>\n",
       "      <th>AvgSpendingPerOrder</th>\n",
       "      <th>Monetary</th>\n",
       "      <th>Recency</th>\n",
       "      <th>UniqueNumberOfProductsPerOrder</th>\n",
       "      <th>AvgProductsPerOrder</th>\n",
       "    </tr>\n",
       "  </thead>\n",
       "  <tbody>\n",
       "    <tr>\n",
       "      <th>count</th>\n",
       "      <td>4271.000</td>\n",
       "      <td>4271.000</td>\n",
       "      <td>4271.000</td>\n",
       "      <td>4271.000</td>\n",
       "      <td>4271.000</td>\n",
       "      <td>4271.000</td>\n",
       "    </tr>\n",
       "    <tr>\n",
       "      <th>mean</th>\n",
       "      <td>3.747</td>\n",
       "      <td>358.800</td>\n",
       "      <td>1319.558</td>\n",
       "      <td>93.784</td>\n",
       "      <td>58.382</td>\n",
       "      <td>22.329</td>\n",
       "    </tr>\n",
       "    <tr>\n",
       "      <th>std</th>\n",
       "      <td>4.616</td>\n",
       "      <td>373.019</td>\n",
       "      <td>1800.121</td>\n",
       "      <td>100.304</td>\n",
       "      <td>67.751</td>\n",
       "      <td>20.282</td>\n",
       "    </tr>\n",
       "    <tr>\n",
       "      <th>min</th>\n",
       "      <td>1.000</td>\n",
       "      <td>3.750</td>\n",
       "      <td>3.750</td>\n",
       "      <td>1.000</td>\n",
       "      <td>1.000</td>\n",
       "      <td>1.000</td>\n",
       "    </tr>\n",
       "    <tr>\n",
       "      <th>25%</th>\n",
       "      <td>1.000</td>\n",
       "      <td>177.133</td>\n",
       "      <td>302.410</td>\n",
       "      <td>18.000</td>\n",
       "      <td>15.000</td>\n",
       "      <td>9.500</td>\n",
       "    </tr>\n",
       "    <tr>\n",
       "      <th>50%</th>\n",
       "      <td>2.000</td>\n",
       "      <td>286.717</td>\n",
       "      <td>656.630</td>\n",
       "      <td>52.000</td>\n",
       "      <td>35.000</td>\n",
       "      <td>17.000</td>\n",
       "    </tr>\n",
       "    <tr>\n",
       "      <th>75%</th>\n",
       "      <td>4.000</td>\n",
       "      <td>417.290</td>\n",
       "      <td>1567.585</td>\n",
       "      <td>145.000</td>\n",
       "      <td>76.000</td>\n",
       "      <td>28.472</td>\n",
       "    </tr>\n",
       "    <tr>\n",
       "      <th>max</th>\n",
       "      <td>90.000</td>\n",
       "      <td>9341.260</td>\n",
       "      <td>13375.870</td>\n",
       "      <td>374.000</td>\n",
       "      <td>816.000</td>\n",
       "      <td>259.000</td>\n",
       "    </tr>\n",
       "  </tbody>\n",
       "</table>\n",
       "</div>"
      ],
      "text/plain": [
       "       Frequancy  AvgSpendingPerOrder   Monetary   Recency  \\\n",
       "count   4271.000             4271.000   4271.000  4271.000   \n",
       "mean       3.747              358.800   1319.558    93.784   \n",
       "std        4.616              373.019   1800.121   100.304   \n",
       "min        1.000                3.750      3.750     1.000   \n",
       "25%        1.000              177.133    302.410    18.000   \n",
       "50%        2.000              286.717    656.630    52.000   \n",
       "75%        4.000              417.290   1567.585   145.000   \n",
       "max       90.000             9341.260  13375.870   374.000   \n",
       "\n",
       "       UniqueNumberOfProductsPerOrder  AvgProductsPerOrder  \n",
       "count                        4271.000             4271.000  \n",
       "mean                           58.382               22.329  \n",
       "std                            67.751               20.282  \n",
       "min                             1.000                1.000  \n",
       "25%                            15.000                9.500  \n",
       "50%                            35.000               17.000  \n",
       "75%                            76.000               28.472  \n",
       "max                           816.000              259.000  "
      ]
     },
     "execution_count": 72,
     "metadata": {},
     "output_type": "execute_result"
    }
   ],
   "source": [
    "features.describe().round(3)"
   ]
  },
  {
   "cell_type": "markdown",
   "metadata": {
    "deletable": true,
    "editable": true
   },
   "source": [
    "## Data Transformation"
   ]
  },
  {
   "cell_type": "markdown",
   "metadata": {
    "deletable": true,
    "editable": true
   },
   "source": [
    "Kmeans uses distance-based measurements to determine the similarity between data points, so it works well if we standardize the data to have a mean of zero and a standard deviation of one "
   ]
  },
  {
   "cell_type": "code",
   "execution_count": 73,
   "metadata": {
    "collapsed": true,
    "deletable": true,
    "editable": true
   },
   "outputs": [],
   "source": [
    "transformed = features"
   ]
  },
  {
   "cell_type": "markdown",
   "metadata": {
    "deletable": true,
    "editable": true
   },
   "source": [
    "### Normlize the dataset "
   ]
  },
  {
   "cell_type": "markdown",
   "metadata": {
    "deletable": true,
    "editable": true
   },
   "source": [
    "###### We will not use it for the final clustring"
   ]
  },
  {
   "cell_type": "code",
   "execution_count": 49,
   "metadata": {
    "collapsed": false,
    "deletable": true,
    "editable": true,
    "scrolled": true
   },
   "outputs": [
    {
     "data": {
      "text/html": [
       "<div>\n",
       "<style>\n",
       "    .dataframe thead tr:only-child th {\n",
       "        text-align: right;\n",
       "    }\n",
       "\n",
       "    .dataframe thead th {\n",
       "        text-align: left;\n",
       "    }\n",
       "\n",
       "    .dataframe tbody tr th {\n",
       "        vertical-align: top;\n",
       "    }\n",
       "</style>\n",
       "<table border=\"1\" class=\"dataframe\">\n",
       "  <thead>\n",
       "    <tr style=\"text-align: right;\">\n",
       "      <th></th>\n",
       "      <th>Frequancy</th>\n",
       "      <th>AvgSpendingPerOrder</th>\n",
       "      <th>Monetary</th>\n",
       "      <th>Recency</th>\n",
       "      <th>UniqueNumberOfProductsPerOrder</th>\n",
       "      <th>AvgProductsPerOrder</th>\n",
       "    </tr>\n",
       "  </thead>\n",
       "  <tbody>\n",
       "    <tr>\n",
       "      <th>count</th>\n",
       "      <td>4.271000e+03</td>\n",
       "      <td>4271.000000</td>\n",
       "      <td>4271.000000</td>\n",
       "      <td>4.271000e+03</td>\n",
       "      <td>4.271000e+03</td>\n",
       "      <td>4.271000e+03</td>\n",
       "    </tr>\n",
       "    <tr>\n",
       "      <th>mean</th>\n",
       "      <td>9.048397e-01</td>\n",
       "      <td>5.615661</td>\n",
       "      <td>6.520500</td>\n",
       "      <td>3.800282e+00</td>\n",
       "      <td>3.468295e+00</td>\n",
       "      <td>2.742203e+00</td>\n",
       "    </tr>\n",
       "    <tr>\n",
       "      <th>std</th>\n",
       "      <td>8.529688e-01</td>\n",
       "      <td>0.714736</td>\n",
       "      <td>1.170838</td>\n",
       "      <td>1.409493e+00</td>\n",
       "      <td>1.203494e+00</td>\n",
       "      <td>9.219563e-01</td>\n",
       "    </tr>\n",
       "    <tr>\n",
       "      <th>min</th>\n",
       "      <td>1.000000e-10</td>\n",
       "      <td>1.321756</td>\n",
       "      <td>1.321756</td>\n",
       "      <td>1.000000e-10</td>\n",
       "      <td>1.000000e-10</td>\n",
       "      <td>1.000000e-10</td>\n",
       "    </tr>\n",
       "    <tr>\n",
       "      <th>25%</th>\n",
       "      <td>1.000000e-10</td>\n",
       "      <td>5.176903</td>\n",
       "      <td>5.711784</td>\n",
       "      <td>2.890372e+00</td>\n",
       "      <td>2.708050e+00</td>\n",
       "      <td>2.251292e+00</td>\n",
       "    </tr>\n",
       "    <tr>\n",
       "      <th>50%</th>\n",
       "      <td>6.931472e-01</td>\n",
       "      <td>5.658495</td>\n",
       "      <td>6.487121</td>\n",
       "      <td>3.951244e+00</td>\n",
       "      <td>3.555348e+00</td>\n",
       "      <td>2.833213e+00</td>\n",
       "    </tr>\n",
       "    <tr>\n",
       "      <th>75%</th>\n",
       "      <td>1.386294e+00</td>\n",
       "      <td>6.033781</td>\n",
       "      <td>7.357291</td>\n",
       "      <td>4.976734e+00</td>\n",
       "      <td>4.330733e+00</td>\n",
       "      <td>3.348928e+00</td>\n",
       "    </tr>\n",
       "    <tr>\n",
       "      <th>max</th>\n",
       "      <td>4.499810e+00</td>\n",
       "      <td>9.142196</td>\n",
       "      <td>9.501208</td>\n",
       "      <td>5.924256e+00</td>\n",
       "      <td>6.704414e+00</td>\n",
       "      <td>5.556828e+00</td>\n",
       "    </tr>\n",
       "  </tbody>\n",
       "</table>\n",
       "</div>"
      ],
      "text/plain": [
       "          Frequancy  AvgSpendingPerOrder     Monetary       Recency  \\\n",
       "count  4.271000e+03          4271.000000  4271.000000  4.271000e+03   \n",
       "mean   9.048397e-01             5.615661     6.520500  3.800282e+00   \n",
       "std    8.529688e-01             0.714736     1.170838  1.409493e+00   \n",
       "min    1.000000e-10             1.321756     1.321756  1.000000e-10   \n",
       "25%    1.000000e-10             5.176903     5.711784  2.890372e+00   \n",
       "50%    6.931472e-01             5.658495     6.487121  3.951244e+00   \n",
       "75%    1.386294e+00             6.033781     7.357291  4.976734e+00   \n",
       "max    4.499810e+00             9.142196     9.501208  5.924256e+00   \n",
       "\n",
       "       UniqueNumberOfProductsPerOrder  AvgProductsPerOrder  \n",
       "count                    4.271000e+03         4.271000e+03  \n",
       "mean                     3.468295e+00         2.742203e+00  \n",
       "std                      1.203494e+00         9.219563e-01  \n",
       "min                      1.000000e-10         1.000000e-10  \n",
       "25%                      2.708050e+00         2.251292e+00  \n",
       "50%                      3.555348e+00         2.833213e+00  \n",
       "75%                      4.330733e+00         3.348928e+00  \n",
       "max                      6.704414e+00         5.556828e+00  "
      ]
     },
     "execution_count": 49,
     "metadata": {},
     "output_type": "execute_result"
    }
   ],
   "source": [
    "transformed = transformed + 0.0000000001 #Avoid the zero\n",
    "transformed = np.log(transformed)\n",
    "transformed.describe()"
   ]
  },
  {
   "cell_type": "markdown",
   "metadata": {
    "deletable": true,
    "editable": true
   },
   "source": [
    "### Standardize the dataset\n",
    "#### Standardizing mean and standard deviation\n"
   ]
  },
  {
   "cell_type": "code",
   "execution_count": 74,
   "metadata": {
    "collapsed": false,
    "deletable": true,
    "editable": true
   },
   "outputs": [
    {
     "data": {
      "text/html": [
       "<div>\n",
       "<style>\n",
       "    .dataframe thead tr:only-child th {\n",
       "        text-align: right;\n",
       "    }\n",
       "\n",
       "    .dataframe thead th {\n",
       "        text-align: left;\n",
       "    }\n",
       "\n",
       "    .dataframe tbody tr th {\n",
       "        vertical-align: top;\n",
       "    }\n",
       "</style>\n",
       "<table border=\"1\" class=\"dataframe\">\n",
       "  <thead>\n",
       "    <tr style=\"text-align: right;\">\n",
       "      <th></th>\n",
       "      <th>Frequancy</th>\n",
       "      <th>AvgSpendingPerOrder</th>\n",
       "      <th>Monetary</th>\n",
       "      <th>Recency</th>\n",
       "      <th>UniqueNumberOfProductsPerOrder</th>\n",
       "      <th>AvgProductsPerOrder</th>\n",
       "    </tr>\n",
       "  </thead>\n",
       "  <tbody>\n",
       "    <tr>\n",
       "      <th>count</th>\n",
       "      <td>4.271000e+03</td>\n",
       "      <td>4.271000e+03</td>\n",
       "      <td>4.271000e+03</td>\n",
       "      <td>4.271000e+03</td>\n",
       "      <td>4.271000e+03</td>\n",
       "      <td>4.271000e+03</td>\n",
       "    </tr>\n",
       "    <tr>\n",
       "      <th>mean</th>\n",
       "      <td>-1.689444e-16</td>\n",
       "      <td>-2.201730e-17</td>\n",
       "      <td>-1.089817e-16</td>\n",
       "      <td>7.481203e-17</td>\n",
       "      <td>-3.361936e-17</td>\n",
       "      <td>6.680899e-17</td>\n",
       "    </tr>\n",
       "    <tr>\n",
       "      <th>std</th>\n",
       "      <td>1.000117e+00</td>\n",
       "      <td>1.000117e+00</td>\n",
       "      <td>1.000117e+00</td>\n",
       "      <td>1.000117e+00</td>\n",
       "      <td>1.000117e+00</td>\n",
       "      <td>1.000117e+00</td>\n",
       "    </tr>\n",
       "    <tr>\n",
       "      <th>min</th>\n",
       "      <td>-5.952020e-01</td>\n",
       "      <td>-9.519410e-01</td>\n",
       "      <td>-7.310407e-01</td>\n",
       "      <td>-9.251370e-01</td>\n",
       "      <td>-8.470525e-01</td>\n",
       "      <td>-1.051717e+00</td>\n",
       "    </tr>\n",
       "    <tr>\n",
       "      <th>25%</th>\n",
       "      <td>-5.952020e-01</td>\n",
       "      <td>-4.870752e-01</td>\n",
       "      <td>-5.651103e-01</td>\n",
       "      <td>-7.556325e-01</td>\n",
       "      <td>-6.403899e-01</td>\n",
       "      <td>-6.325827e-01</td>\n",
       "    </tr>\n",
       "    <tr>\n",
       "      <th>50%</th>\n",
       "      <td>-3.785574e-01</td>\n",
       "      <td>-1.932665e-01</td>\n",
       "      <td>-3.683116e-01</td>\n",
       "      <td>-4.166234e-01</td>\n",
       "      <td>-3.451577e-01</td>\n",
       "      <td>-2.627587e-01</td>\n",
       "    </tr>\n",
       "    <tr>\n",
       "      <th>75%</th>\n",
       "      <td>5.473180e-02</td>\n",
       "      <td>1.568195e-01</td>\n",
       "      <td>1.377996e-01</td>\n",
       "      <td>5.106660e-01</td>\n",
       "      <td>2.600684e-01</td>\n",
       "      <td>3.029351e-01</td>\n",
       "    </tr>\n",
       "    <tr>\n",
       "      <th>max</th>\n",
       "      <td>1.868617e+01</td>\n",
       "      <td>2.408327e+01</td>\n",
       "      <td>6.698284e+00</td>\n",
       "      <td>2.793992e+00</td>\n",
       "      <td>1.118366e+01</td>\n",
       "      <td>1.167023e+01</td>\n",
       "    </tr>\n",
       "  </tbody>\n",
       "</table>\n",
       "</div>"
      ],
      "text/plain": [
       "          Frequancy  AvgSpendingPerOrder      Monetary       Recency  \\\n",
       "count  4.271000e+03         4.271000e+03  4.271000e+03  4.271000e+03   \n",
       "mean  -1.689444e-16        -2.201730e-17 -1.089817e-16  7.481203e-17   \n",
       "std    1.000117e+00         1.000117e+00  1.000117e+00  1.000117e+00   \n",
       "min   -5.952020e-01        -9.519410e-01 -7.310407e-01 -9.251370e-01   \n",
       "25%   -5.952020e-01        -4.870752e-01 -5.651103e-01 -7.556325e-01   \n",
       "50%   -3.785574e-01        -1.932665e-01 -3.683116e-01 -4.166234e-01   \n",
       "75%    5.473180e-02         1.568195e-01  1.377996e-01  5.106660e-01   \n",
       "max    1.868617e+01         2.408327e+01  6.698284e+00  2.793992e+00   \n",
       "\n",
       "       UniqueNumberOfProductsPerOrder  AvgProductsPerOrder  \n",
       "count                    4.271000e+03         4.271000e+03  \n",
       "mean                    -3.361936e-17         6.680899e-17  \n",
       "std                      1.000117e+00         1.000117e+00  \n",
       "min                     -8.470525e-01        -1.051717e+00  \n",
       "25%                     -6.403899e-01        -6.325827e-01  \n",
       "50%                     -3.451577e-01        -2.627587e-01  \n",
       "75%                      2.600684e-01         3.029351e-01  \n",
       "max                      1.118366e+01         1.167023e+01  "
      ]
     },
     "execution_count": 74,
     "metadata": {},
     "output_type": "execute_result"
    }
   ],
   "source": [
    "#Scale the data\n",
    "from sklearn.preprocessing import StandardScaler\n",
    "scaler = StandardScaler()\n",
    "transformed = scaler.fit_transform(transformed)\n",
    "transformed = pd.DataFrame(transformed, columns=features.columns)\n",
    "transformed.describe()"
   ]
  },
  {
   "cell_type": "markdown",
   "metadata": {
    "deletable": true,
    "editable": true
   },
   "source": [
    "## Apply K-Means\n",
    "\n",
    "### Select the Optimal K number\n",
    "\n",
    "There are different approaches that can be used to select the optimal number of clusters for a K-Means model.\n",
    "1. The Elbow Criterion\n",
    "2. Silhouette Coefficient\n",
    "3. Experimentation and interpretation (from business perspective)"
   ]
  },
  {
   "cell_type": "markdown",
   "metadata": {
    "deletable": true,
    "editable": true
   },
   "source": [
    "###  Find the Number of Clusters using Sum-of-Squared-Errors (SSE)"
   ]
  },
  {
   "cell_type": "code",
   "execution_count": 75,
   "metadata": {
    "collapsed": false,
    "deletable": true,
    "editable": true
   },
   "outputs": [
    {
     "data": {
      "image/png": "[encoded data removed]",
      "text/plain": [
       "<matplotlib.figure.Figure at 0x21d8101a978>"
      ]
     },
     "metadata": {
      "needs_background": "light"
     },
     "output_type": "display_data"
    }
   ],
   "source": [
    "from sklearn.cluster import KMeans\n",
    "sse = {}\n",
    "for k in range(1, 11):\n",
    "    kmeans = KMeans(n_clusters=k, random_state=1)\n",
    "    kmeans.fit(transformed)\n",
    "    sse[k] = kmeans.inertia_\n",
    "# Plot SSE for each *k*\n",
    "plt.title('The Elbow Method')\n",
    "plt.xlabel('k'); plt.ylabel('SSE')\n",
    "sns.pointplot(x=list(sse.keys()), y=list(sse.values()))\n",
    "plt.show()"
   ]
  },
  {
   "cell_type": "markdown",
   "metadata": {
    "deletable": true,
    "editable": true
   },
   "source": [
    "Ideally, we want to choose the point on the elbow chart where the SSE stops decreasing at an increasing rate — i.e. the point where the change gradient of between the number of clusters becomes constant."
   ]
  },
  {
   "cell_type": "markdown",
   "metadata": {},
   "source": [
    "###  Find the Number of Clusters using silhouette coefficient"
   ]
  },
  {
   "cell_type": "code",
   "execution_count": 76,
   "metadata": {
    "collapsed": false,
    "deletable": true,
    "editable": true
   },
   "outputs": [
    {
     "name": "stdout",
     "output_type": "stream",
     "text": [
      "Silhouette Score for 3 Clusters: 0.3211\n",
      "Silhouette Score for 4 Clusters: 0.3426\n",
      "Silhouette Score for 5 Clusters: 0.3449\n",
      "Silhouette Score for 6 Clusters: 0.3363\n",
      "Silhouette Score for 8 Clusters: 0.3378\n",
      "Silhouette Score for 10 Clusters: 0.3261\n"
     ]
    }
   ],
   "source": [
    "# Use silhouette coefficient to determine the best number of clusters\n",
    "from sklearn.metrics import silhouette_score\n",
    "\n",
    "for n_cluster in [3,4,5,6,8,10]:\n",
    "    kmeans = KMeans(n_clusters=n_cluster).fit(\n",
    "       transformed)\n",
    "    \n",
    "    silhouette_avg = silhouette_score(\n",
    "        transformed, \n",
    "        kmeans.labels_)\n",
    "    print('Silhouette Score for %i Clusters: %0.4f' % (n_cluster, silhouette_avg))"
   ]
  },
  {
   "cell_type": "markdown",
   "metadata": {
    "deletable": true,
    "editable": true
   },
   "source": [
    "Using both SSE and silhouette we select the number of K = 5 "
   ]
  },
  {
   "cell_type": "code",
   "execution_count": 77,
   "metadata": {
    "collapsed": false,
    "deletable": true,
    "editable": true
   },
   "outputs": [],
   "source": [
    "#Import KMeans from skLearn\n",
    "from sklearn.cluster import KMeans\n",
    "# Choose k=5 and fit data set to k-means model\n",
    "kmeans = KMeans(n_clusters=5, random_state=1)\n",
    "kmeans.fit(transformed)\n",
    "# Assign k-means labels to cluster labels\n",
    "cluster_labels = kmeans.labels_\n",
    "# Assign cluster labels to original pre-transformed data set\n",
    "transformed_k4 = all_features.assign(Cluster = cluster_labels)\n",
    "# Group data set by k-means cluster\n",
    "clusters_info = transformed_k4.groupby(['Cluster']).agg('mean')"
   ]
  },
  {
   "cell_type": "code",
   "execution_count": 78,
   "metadata": {
    "collapsed": false,
    "deletable": true,
    "editable": true
   },
   "outputs": [
    {
     "data": {
      "text/plain": [
       "4271"
      ]
     },
     "execution_count": 78,
     "metadata": {},
     "output_type": "execute_result"
    }
   ],
   "source": [
    "len(transformed_k4)"
   ]
  },
  {
   "cell_type": "markdown",
   "metadata": {
    "deletable": true,
    "editable": true
   },
   "source": [
    "### Number of customers in each cluster "
   ]
  },
  {
   "cell_type": "code",
   "execution_count": 80,
   "metadata": {
    "collapsed": false,
    "deletable": true,
    "editable": true,
    "scrolled": true
   },
   "outputs": [
    {
     "data": {
      "image/png": "[encoded data removed]",
      "text/plain": [
       "<matplotlib.figure.Figure at 0x21d81051940>"
      ]
     },
     "metadata": {
      "needs_background": "light"
     },
     "output_type": "display_data"
    }
   ],
   "source": [
    "tdf = pd.DataFrame(transformed_k4['Cluster'].value_counts().reset_index()).rename(columns={'index':'cluster','Cluster':'total'})\n",
    "\n",
    "tdf.plot.bar(x=\"cluster\", y=\"total\", rot=0, title=\"Number custumers per cluster\",figsize=(8,5),fontsize=20);\n"
   ]
  },
  {
   "cell_type": "code",
   "execution_count": 81,
   "metadata": {
    "collapsed": false,
    "deletable": true,
    "editable": true
   },
   "outputs": [
    {
     "data": {
      "text/plain": [
       "0    53.804730\n",
       "2    23.413720\n",
       "1    13.954577\n",
       "4     7.468977\n",
       "3     1.357996\n",
       "Name: Cluster, dtype: float64"
      ]
     },
     "execution_count": 81,
     "metadata": {},
     "output_type": "execute_result"
    }
   ],
   "source": [
    "#% of customers in each cluster\n",
    "ptdf = transformed_k4['Cluster'].value_counts() /len(transformed_k4) * 100\n",
    "ptdf"
   ]
  },
  {
   "cell_type": "markdown",
   "metadata": {
    "deletable": true,
    "editable": true
   },
   "source": [
    "# Gaining a better understanding of clusters behaviours"
   ]
  },
  {
   "cell_type": "markdown",
   "metadata": {},
   "source": [
    "We can understand our customers behaviours in each segmant by displaying the mean of each variable we are intereted in. First we will take the original dataset (with clusters information) and group customers by cluster. Then we will aggregate all variables"
   ]
  },
  {
   "cell_type": "code",
   "execution_count": 82,
   "metadata": {
    "collapsed": false,
    "deletable": true,
    "editable": true
   },
   "outputs": [
    {
     "data": {
      "text/html": [
       "<div>\n",
       "<style>\n",
       "    .dataframe thead tr:only-child th {\n",
       "        text-align: right;\n",
       "    }\n",
       "\n",
       "    .dataframe thead th {\n",
       "        text-align: left;\n",
       "    }\n",
       "\n",
       "    .dataframe tbody tr th {\n",
       "        vertical-align: top;\n",
       "    }\n",
       "</style>\n",
       "<table border=\"1\" class=\"dataframe\">\n",
       "  <thead>\n",
       "    <tr style=\"text-align: right;\">\n",
       "      <th></th>\n",
       "      <th>Cluster</th>\n",
       "      <th>0</th>\n",
       "      <th>1</th>\n",
       "      <th>2</th>\n",
       "      <th>3</th>\n",
       "      <th>4</th>\n",
       "    </tr>\n",
       "  </thead>\n",
       "  <tbody>\n",
       "    <tr>\n",
       "      <th>CustomerID</th>\n",
       "      <th>mean</th>\n",
       "      <td>15291.280679</td>\n",
       "      <td>15295.451342</td>\n",
       "      <td>15383.784000</td>\n",
       "      <td>14681.051724</td>\n",
       "      <td>15248.407524</td>\n",
       "    </tr>\n",
       "    <tr>\n",
       "      <th>Frequancy</th>\n",
       "      <th>mean</th>\n",
       "      <td>3.211923</td>\n",
       "      <td>3.555369</td>\n",
       "      <td>1.465000</td>\n",
       "      <td>2.189655</td>\n",
       "      <td>15.401254</td>\n",
       "    </tr>\n",
       "    <tr>\n",
       "      <th>MinSpendingPerOrder</th>\n",
       "      <th>mean</th>\n",
       "      <td>201.917903</td>\n",
       "      <td>350.173070</td>\n",
       "      <td>233.933150</td>\n",
       "      <td>1992.001379</td>\n",
       "      <td>117.609436</td>\n",
       "    </tr>\n",
       "    <tr>\n",
       "      <th>MaxSpendingPerOrder</th>\n",
       "      <th>mean</th>\n",
       "      <td>401.562198</td>\n",
       "      <td>732.314681</td>\n",
       "      <td>293.789690</td>\n",
       "      <td>3056.856897</td>\n",
       "      <td>973.745862</td>\n",
       "    </tr>\n",
       "    <tr>\n",
       "      <th>AvgSpendingPerOrder</th>\n",
       "      <th>mean</th>\n",
       "      <td>292.343632</td>\n",
       "      <td>521.904196</td>\n",
       "      <td>261.978383</td>\n",
       "      <td>2516.425711</td>\n",
       "      <td>444.025744</td>\n",
       "    </tr>\n",
       "    <tr>\n",
       "      <th>Monetary</th>\n",
       "      <th>mean</th>\n",
       "      <td>920.752389</td>\n",
       "      <td>1653.359815</td>\n",
       "      <td>371.660260</td>\n",
       "      <td>4885.530345</td>\n",
       "      <td>5891.911129</td>\n",
       "    </tr>\n",
       "    <tr>\n",
       "      <th>Recency</th>\n",
       "      <th>mean</th>\n",
       "      <td>46.563098</td>\n",
       "      <td>53.807047</td>\n",
       "      <td>249.576000</td>\n",
       "      <td>105.672414</td>\n",
       "      <td>18.106583</td>\n",
       "    </tr>\n",
       "    <tr>\n",
       "      <th>UniqueNumberOfProductsPerOrder</th>\n",
       "      <th>mean</th>\n",
       "      <td>38.811140</td>\n",
       "      <td>131.228188</td>\n",
       "      <td>20.367000</td>\n",
       "      <td>81.344828</td>\n",
       "      <td>178.260188</td>\n",
       "    </tr>\n",
       "    <tr>\n",
       "      <th>NumberOfProducts</th>\n",
       "      <th>mean</th>\n",
       "      <td>48.058747</td>\n",
       "      <td>172.352349</td>\n",
       "      <td>21.909000</td>\n",
       "      <td>99.879310</td>\n",
       "      <td>330.144201</td>\n",
       "    </tr>\n",
       "    <tr>\n",
       "      <th>AvgProductsPerOrder</th>\n",
       "      <th>mean</th>\n",
       "      <td>15.996576</td>\n",
       "      <td>54.704553</td>\n",
       "      <td>15.671525</td>\n",
       "      <td>49.660057</td>\n",
       "      <td>23.354638</td>\n",
       "    </tr>\n",
       "    <tr>\n",
       "      <th>C0</th>\n",
       "      <th>mean</th>\n",
       "      <td>605.894974</td>\n",
       "      <td>1113.099530</td>\n",
       "      <td>260.142600</td>\n",
       "      <td>3113.087414</td>\n",
       "      <td>3797.508589</td>\n",
       "    </tr>\n",
       "    <tr>\n",
       "      <th>C1</th>\n",
       "      <th>mean</th>\n",
       "      <td>105.321062</td>\n",
       "      <td>206.501359</td>\n",
       "      <td>41.102300</td>\n",
       "      <td>650.514828</td>\n",
       "      <td>621.058527</td>\n",
       "    </tr>\n",
       "    <tr>\n",
       "      <th>C2</th>\n",
       "      <th>mean</th>\n",
       "      <td>62.190714</td>\n",
       "      <td>93.002131</td>\n",
       "      <td>14.902690</td>\n",
       "      <td>463.356379</td>\n",
       "      <td>592.997649</td>\n",
       "    </tr>\n",
       "    <tr>\n",
       "      <th>C3</th>\n",
       "      <th>mean</th>\n",
       "      <td>46.966736</td>\n",
       "      <td>78.569211</td>\n",
       "      <td>18.498780</td>\n",
       "      <td>394.554483</td>\n",
       "      <td>362.039875</td>\n",
       "    </tr>\n",
       "    <tr>\n",
       "      <th>C4</th>\n",
       "      <th>mean</th>\n",
       "      <td>100.378903</td>\n",
       "      <td>162.187584</td>\n",
       "      <td>37.013890</td>\n",
       "      <td>264.017241</td>\n",
       "      <td>518.306489</td>\n",
       "    </tr>\n",
       "    <tr>\n",
       "      <th>1</th>\n",
       "      <th>mean</th>\n",
       "      <td>35.344974</td>\n",
       "      <td>84.476007</td>\n",
       "      <td>44.166450</td>\n",
       "      <td>311.298103</td>\n",
       "      <td>361.758245</td>\n",
       "    </tr>\n",
       "    <tr>\n",
       "      <th>2</th>\n",
       "      <th>mean</th>\n",
       "      <td>44.630418</td>\n",
       "      <td>55.358490</td>\n",
       "      <td>41.893520</td>\n",
       "      <td>224.938276</td>\n",
       "      <td>334.513793</td>\n",
       "    </tr>\n",
       "    <tr>\n",
       "      <th>3</th>\n",
       "      <th>mean</th>\n",
       "      <td>51.272276</td>\n",
       "      <td>104.175503</td>\n",
       "      <td>61.977870</td>\n",
       "      <td>276.051552</td>\n",
       "      <td>432.393229</td>\n",
       "    </tr>\n",
       "    <tr>\n",
       "      <th>4</th>\n",
       "      <th>mean</th>\n",
       "      <td>44.774504</td>\n",
       "      <td>83.975822</td>\n",
       "      <td>50.614440</td>\n",
       "      <td>110.043448</td>\n",
       "      <td>371.819373</td>\n",
       "    </tr>\n",
       "    <tr>\n",
       "      <th>5</th>\n",
       "      <th>mean</th>\n",
       "      <td>64.620601</td>\n",
       "      <td>106.915436</td>\n",
       "      <td>55.816030</td>\n",
       "      <td>382.652586</td>\n",
       "      <td>503.666740</td>\n",
       "    </tr>\n",
       "    <tr>\n",
       "      <th>6</th>\n",
       "      <th>mean</th>\n",
       "      <td>53.017328</td>\n",
       "      <td>119.660856</td>\n",
       "      <td>39.427650</td>\n",
       "      <td>198.230000</td>\n",
       "      <td>446.245549</td>\n",
       "    </tr>\n",
       "    <tr>\n",
       "      <th>7</th>\n",
       "      <th>mean</th>\n",
       "      <td>64.301932</td>\n",
       "      <td>99.250101</td>\n",
       "      <td>20.107860</td>\n",
       "      <td>351.525690</td>\n",
       "      <td>456.208840</td>\n",
       "    </tr>\n",
       "    <tr>\n",
       "      <th>8</th>\n",
       "      <th>mean</th>\n",
       "      <td>71.898516</td>\n",
       "      <td>109.170654</td>\n",
       "      <td>0.000000</td>\n",
       "      <td>493.658448</td>\n",
       "      <td>443.726082</td>\n",
       "    </tr>\n",
       "    <tr>\n",
       "      <th>9</th>\n",
       "      <th>mean</th>\n",
       "      <td>126.023947</td>\n",
       "      <td>177.158473</td>\n",
       "      <td>0.000000</td>\n",
       "      <td>609.980517</td>\n",
       "      <td>548.591097</td>\n",
       "    </tr>\n",
       "    <tr>\n",
       "      <th>10</th>\n",
       "      <th>mean</th>\n",
       "      <td>128.379756</td>\n",
       "      <td>251.831376</td>\n",
       "      <td>0.000000</td>\n",
       "      <td>545.962069</td>\n",
       "      <td>535.220000</td>\n",
       "    </tr>\n",
       "    <tr>\n",
       "      <th>11</th>\n",
       "      <th>mean</th>\n",
       "      <td>154.105226</td>\n",
       "      <td>296.906107</td>\n",
       "      <td>0.000000</td>\n",
       "      <td>785.449828</td>\n",
       "      <td>729.915078</td>\n",
       "    </tr>\n",
       "    <tr>\n",
       "      <th>12</th>\n",
       "      <th>mean</th>\n",
       "      <td>82.382911</td>\n",
       "      <td>164.480990</td>\n",
       "      <td>57.656440</td>\n",
       "      <td>595.739828</td>\n",
       "      <td>727.853103</td>\n",
       "    </tr>\n",
       "  </tbody>\n",
       "</table>\n",
       "</div>"
      ],
      "text/plain": [
       "Cluster                                         0             1             2  \\\n",
       "CustomerID                     mean  15291.280679  15295.451342  15383.784000   \n",
       "Frequancy                      mean      3.211923      3.555369      1.465000   \n",
       "MinSpendingPerOrder            mean    201.917903    350.173070    233.933150   \n",
       "MaxSpendingPerOrder            mean    401.562198    732.314681    293.789690   \n",
       "AvgSpendingPerOrder            mean    292.343632    521.904196    261.978383   \n",
       "Monetary                       mean    920.752389   1653.359815    371.660260   \n",
       "Recency                        mean     46.563098     53.807047    249.576000   \n",
       "UniqueNumberOfProductsPerOrder mean     38.811140    131.228188     20.367000   \n",
       "NumberOfProducts               mean     48.058747    172.352349     21.909000   \n",
       "AvgProductsPerOrder            mean     15.996576     54.704553     15.671525   \n",
       "C0                             mean    605.894974   1113.099530    260.142600   \n",
       "C1                             mean    105.321062    206.501359     41.102300   \n",
       "C2                             mean     62.190714     93.002131     14.902690   \n",
       "C3                             mean     46.966736     78.569211     18.498780   \n",
       "C4                             mean    100.378903    162.187584     37.013890   \n",
       "1                              mean     35.344974     84.476007     44.166450   \n",
       "2                              mean     44.630418     55.358490     41.893520   \n",
       "3                              mean     51.272276    104.175503     61.977870   \n",
       "4                              mean     44.774504     83.975822     50.614440   \n",
       "5                              mean     64.620601    106.915436     55.816030   \n",
       "6                              mean     53.017328    119.660856     39.427650   \n",
       "7                              mean     64.301932     99.250101     20.107860   \n",
       "8                              mean     71.898516    109.170654      0.000000   \n",
       "9                              mean    126.023947    177.158473      0.000000   \n",
       "10                             mean    128.379756    251.831376      0.000000   \n",
       "11                             mean    154.105226    296.906107      0.000000   \n",
       "12                             mean     82.382911    164.480990     57.656440   \n",
       "\n",
       "Cluster                                         3             4  \n",
       "CustomerID                     mean  14681.051724  15248.407524  \n",
       "Frequancy                      mean      2.189655     15.401254  \n",
       "MinSpendingPerOrder            mean   1992.001379    117.609436  \n",
       "MaxSpendingPerOrder            mean   3056.856897    973.745862  \n",
       "AvgSpendingPerOrder            mean   2516.425711    444.025744  \n",
       "Monetary                       mean   4885.530345   5891.911129  \n",
       "Recency                        mean    105.672414     18.106583  \n",
       "UniqueNumberOfProductsPerOrder mean     81.344828    178.260188  \n",
       "NumberOfProducts               mean     99.879310    330.144201  \n",
       "AvgProductsPerOrder            mean     49.660057     23.354638  \n",
       "C0                             mean   3113.087414   3797.508589  \n",
       "C1                             mean    650.514828    621.058527  \n",
       "C2                             mean    463.356379    592.997649  \n",
       "C3                             mean    394.554483    362.039875  \n",
       "C4                             mean    264.017241    518.306489  \n",
       "1                              mean    311.298103    361.758245  \n",
       "2                              mean    224.938276    334.513793  \n",
       "3                              mean    276.051552    432.393229  \n",
       "4                              mean    110.043448    371.819373  \n",
       "5                              mean    382.652586    503.666740  \n",
       "6                              mean    198.230000    446.245549  \n",
       "7                              mean    351.525690    456.208840  \n",
       "8                              mean    493.658448    443.726082  \n",
       "9                              mean    609.980517    548.591097  \n",
       "10                             mean    545.962069    535.220000  \n",
       "11                             mean    785.449828    729.915078  \n",
       "12                             mean    595.739828    727.853103  "
      ]
     },
     "execution_count": 82,
     "metadata": {},
     "output_type": "execute_result"
    }
   ],
   "source": [
    "transformed_k4.groupby(['Cluster']).agg(['mean']).T"
   ]
  },
  {
   "cell_type": "markdown",
   "metadata": {},
   "source": [
    "### Number of unique countries in each cluster sorted on the total number of orders"
   ]
  },
  {
   "cell_type": "code",
   "execution_count": 92,
   "metadata": {
    "collapsed": false
   },
   "outputs": [
    {
     "name": "stdout",
     "output_type": "stream",
     "text": [
      "Unique Countries in cluster 0 is 27\n",
      "                 index  Country\n",
      "0       United Kingdom   100756\n",
      "1               France     2704\n",
      "2              Germany     2180\n",
      "3              Belgium      905\n",
      "4                Spain      458\n",
      "5                Italy      378\n",
      "6             Portugal      355\n",
      "7          Switzerland      326\n",
      "8               Poland      325\n",
      "9              Finland      287\n",
      "10           Australia      247\n",
      "11             Denmark      226\n",
      "12         Netherlands      217\n",
      "13              Sweden      212\n",
      "14              Norway      184\n",
      "15              Greece       88\n",
      "16              Israel       77\n",
      "17     Channel Islands       76\n",
      "18              Cyprus       72\n",
      "19             Austria       69\n",
      "20               Malta       64\n",
      "21  European Community       57\n",
      "22                 USA       56\n",
      "23         Unspecified       54\n",
      "24               Japan       37\n",
      "25      Czech Republic       24\n",
      "26              Canada        5\n",
      "Unique Countries in cluster 1 is 21\n",
      "                   index  Country\n",
      "0         United Kingdom    94556\n",
      "1                Germany     1875\n",
      "2                 France     1413\n",
      "3                  Spain     1405\n",
      "4            Switzerland      531\n",
      "5                Belgium      394\n",
      "6                 Norway      375\n",
      "7               Portugal      276\n",
      "8                Austria      271\n",
      "9                 Cyprus      259\n",
      "10                 Italy      249\n",
      "11       Channel Islands      215\n",
      "12               Iceland      182\n",
      "13                  EIRE      160\n",
      "14                Canada      134\n",
      "15           Unspecified      134\n",
      "16                   USA      101\n",
      "17                   RSA       57\n",
      "18               Finland       53\n",
      "19                 Malta       45\n",
      "20  United Arab Emirates       37\n",
      "Unique Countries in cluster 2 is 26\n",
      "                   index  Country\n",
      "0         United Kingdom    20183\n",
      "1                 France      310\n",
      "2                Germany      236\n",
      "3                Belgium      167\n",
      "4            Switzerland      141\n",
      "5               Portugal      123\n",
      "6                  Italy      114\n",
      "7        Channel Islands       79\n",
      "8                  Japan       75\n",
      "9            Unspecified       56\n",
      "10           Netherlands       45\n",
      "11               Austria       44\n",
      "12             Australia       40\n",
      "13             Lithuania       35\n",
      "14                Cyprus       33\n",
      "15                Brazil       32\n",
      "16  United Arab Emirates       30\n",
      "17                 Spain       28\n",
      "18                   USA       22\n",
      "19                Greece       22\n",
      "20                Sweden       21\n",
      "21               Finland       20\n",
      "22               Bahrain       17\n",
      "23                Norway       16\n",
      "24                Canada       11\n",
      "25          Saudi Arabia        9\n",
      "Unique Countries in cluster 3 is 14\n",
      "              index  Country\n",
      "0    United Kingdom     2812\n",
      "1       Switzerland      812\n",
      "2           Germany      515\n",
      "3            Norway      473\n",
      "4            France      259\n",
      "5            Cyprus      248\n",
      "6         Singapore      215\n",
      "7            Israel      171\n",
      "8           Denmark      141\n",
      "9             Spain       48\n",
      "10          Lebanon       45\n",
      "11           Greece       32\n",
      "12            Japan       12\n",
      "13  Channel Islands       10\n",
      "Unique Countries in cluster 4 is 9\n",
      "             index  Country\n",
      "0   United Kingdom    96529\n",
      "1          Germany     3413\n",
      "2           France     2919\n",
      "3         Portugal      671\n",
      "4            Spain      483\n",
      "5          Belgium      469\n",
      "6  Channel Islands      364\n",
      "7          Finland      287\n",
      "8        Australia      181\n"
     ]
    }
   ],
   "source": [
    "for i in [0,1,2,3,4]:\n",
    "    cno = i\n",
    "    IDs = transformed_k4[transformed_k4['Cluster']==cno]['CustomerID']\n",
    "    values = pd.DataFrame(df[df['CustomerID'].isin(IDs)]['Country'].value_counts()).reset_index()\n",
    "    print(\"Unique Countries in cluster {} is {}\".format(cno, len(values)))\n",
    "    print(values)"
   ]
  },
  {
   "cell_type": "markdown",
   "metadata": {},
   "source": [
    "### Number of unique countries in each cluster sorted based on the total spending"
   ]
  },
  {
   "cell_type": "code",
   "execution_count": 93,
   "metadata": {
    "collapsed": false,
    "scrolled": false
   },
   "outputs": [
    {
     "name": "stdout",
     "output_type": "stream",
     "text": [
      "Unique Countries in cluster 0 is 27\n",
      "                    TotalAmount\n",
      "Country                        \n",
      "United Kingdom       1900505.49\n",
      "France                 54295.57\n",
      "Germany                48596.59\n",
      "Belgium                17585.35\n",
      "Finland                10197.87\n",
      "Italy                   8729.83\n",
      "Spain                   8512.87\n",
      "Switzerland             8431.90\n",
      "Portugal                8133.96\n",
      "Poland                  6974.65\n",
      "Denmark                 6966.15\n",
      "Australia               5929.25\n",
      "Sweden                  4691.41\n",
      "Channel Islands         3918.56\n",
      "Netherlands             3881.22\n",
      "Norway                  3505.96\n",
      "Cyprus                  2676.99\n",
      "Israel                  2347.88\n",
      "Austria                 1932.97\n",
      "USA                     1616.93\n",
      "Greece                  1376.97\n",
      "Malta                   1165.09\n",
      "European Community      1159.25\n",
      "Unspecified             1082.18\n",
      "Japan                    835.80\n",
      "Czech Republic           786.74\n",
      "Canada                    51.56\n",
      "Unique Countries in cluster 1 is 21\n",
      "                      TotalAmount\n",
      "Country                          \n",
      "United Kingdom          839516.67\n",
      "Germany                  32816.67\n",
      "France                   23663.01\n",
      "Spain                    19175.52\n",
      "Norway                   10911.63\n",
      "Switzerland              10518.61\n",
      "Belgium                   7864.21\n",
      "Portugal                  5765.00\n",
      "Italy                     5053.38\n",
      "Austria                   4734.58\n",
      "Iceland                   4310.00\n",
      "EIRE                      4291.21\n",
      "Channel Islands           4263.80\n",
      "Cyprus                    3729.38\n",
      "Canada                    2389.10\n",
      "USA                       1579.51\n",
      "Finland                   1390.39\n",
      "RSA                       1002.31\n",
      "United Arab Emirates       975.54\n",
      "Malta                      905.50\n",
      "Unspecified                546.43\n",
      "Unique Countries in cluster 2 is 26\n",
      "                      TotalAmount\n",
      "Country                          \n",
      "United Kingdom          331279.98\n",
      "France                    5117.79\n",
      "Germany                   4548.54\n",
      "Japan                     4362.19\n",
      "Switzerland               3206.96\n",
      "Belgium                   2998.97\n",
      "Australia                 2162.86\n",
      "Portugal                  2152.16\n",
      "Austria                   2075.13\n",
      "Italy                     2037.03\n",
      "Channel Islands           1903.35\n",
      "Lithuania                 1661.06\n",
      "Brazil                    1143.60\n",
      "Unspecified               1038.46\n",
      "United Arab Emirates       889.24\n",
      "Netherlands                870.10\n",
      "Canada                     674.78\n",
      "Spain                      584.88\n",
      "Bahrain                    548.40\n",
      "Cyprus                     475.74\n",
      "Greece                     387.31\n",
      "USA                        383.95\n",
      "Sweden                     366.10\n",
      "Finland                    351.36\n",
      "Norway                     294.40\n",
      "Saudi Arabia               145.92\n",
      "Unique Countries in cluster 3 is 14\n",
      "                 TotalAmount\n",
      "Country                     \n",
      "United Kingdom     142407.44\n",
      "Switzerland         30284.48\n",
      "Germany             24586.39\n",
      "Norway              17742.65\n",
      "Spain               15519.30\n",
      "Denmark             11245.19\n",
      "Japan               10788.99\n",
      "Singapore            9120.39\n",
      "Cyprus               6372.58\n",
      "Israel               4873.81\n",
      "France               4279.71\n",
      "Greece               2661.24\n",
      "Channel Islands      1784.71\n",
      "Lebanon              1693.88\n",
      "Unique Countries in cluster 4 is 9\n",
      "                 TotalAmount\n",
      "Country                     \n",
      "United Kingdom    1689344.64\n",
      "Germany             77597.65\n",
      "France              61452.23\n",
      "Spain               11932.54\n",
      "Portugal            10656.83\n",
      "Belgium              8478.81\n",
      "Channel Islands      8137.02\n",
      "Finland              6405.26\n",
      "Australia            5514.67\n"
     ]
    }
   ],
   "source": [
    "for i in [0,1,2,3,4]:\n",
    "    cno = i\n",
    "    IDs = transformed_k4[transformed_k4['Cluster']==cno]['CustomerID']\n",
    "    values = pd.DataFrame(df[df['CustomerID'].isin(IDs)].groupby(['InvoiceNo']).agg({'TotalAmount':'sum','CustomerID':'first','Country':'first'})\\\n",
    ".groupby(by=['Country']).agg({'TotalAmount':'sum'})).sort_values('TotalAmount',ascending=False)\n",
    "    print(\"Unique Countries in cluster {} is {}\".format(cno, len(values)))\n",
    "    print(values)"
   ]
  },
  {
   "cell_type": "markdown",
   "metadata": {
    "deletable": true,
    "editable": true
   },
   "source": [
    "### Compare the AVG spending per order"
   ]
  },
  {
   "cell_type": "code",
   "execution_count": 94,
   "metadata": {
    "collapsed": false,
    "deletable": true,
    "editable": true
   },
   "outputs": [
    {
     "name": "stderr",
     "output_type": "stream",
     "text": [
      "C:\\Users\\shahad\\Anaconda3\\lib\\site-packages\\ipykernel_launcher.py:1: RuntimeWarning: divide by zero encountered in log\n",
      "  \"\"\"Entry point for launching an IPython kernel.\n"
     ]
    },
    {
     "data": {
      "image/png": "[encoded data removed]",
      "text/plain": [
       "<matplotlib.figure.Figure at 0x21d8aa0c0b8>"
      ]
     },
     "metadata": {
      "needs_background": "light"
     },
     "output_type": "display_data"
    }
   ],
   "source": [
    "cluster_info_log = np.log(clusters_info)\n",
    "cluster_info_log[['AvgSpendingPerOrder']].plot.bar(rot=14,title=\"Avg spending\",figsize=(10,10));\n",
    "plt.show(block=True)"
   ]
  },
  {
   "cell_type": "markdown",
   "metadata": {
    "deletable": true,
    "editable": true
   },
   "source": [
    "### Compare the AVG spending per category"
   ]
  },
  {
   "cell_type": "code",
   "execution_count": 95,
   "metadata": {
    "collapsed": false,
    "deletable": true,
    "editable": true
   },
   "outputs": [
    {
     "data": {
      "text/plain": [
       "Int64Index([0, 1, 2, 3, 4], dtype='int64', name='Cluster')"
      ]
     },
     "execution_count": 95,
     "metadata": {},
     "output_type": "execute_result"
    }
   ],
   "source": [
    "clusters_info.index"
   ]
  },
  {
   "cell_type": "code",
   "execution_count": 96,
   "metadata": {
    "collapsed": false,
    "deletable": true,
    "editable": true
   },
   "outputs": [
    {
     "data": {
      "image/png": "[encoded data removed]",
      "text/plain": [
       "<matplotlib.figure.Figure at 0x21d8b0937b8>"
      ]
     },
     "metadata": {
      "needs_background": "light"
     },
     "output_type": "display_data"
    }
   ],
   "source": [
    "import matplotlib.pyplot as plot\n",
    "\n",
    "clusters_info[['C0','C1','C2','C3','C4']].plot.bar(rot=15, title=\"Avg spending per category\");\n",
    "plot.show(block=True);"
   ]
  },
  {
   "cell_type": "markdown",
   "metadata": {
    "deletable": true,
    "editable": true
   },
   "source": [
    "Let's find more about our clusters, we will start with the cluster with highest number of custumer "
   ]
  },
  {
   "cell_type": "markdown",
   "metadata": {
    "deletable": true,
    "editable": true
   },
   "source": [
    "### Compare AVG spending per Month"
   ]
  },
  {
   "cell_type": "markdown",
   "metadata": {
    "deletable": true,
    "editable": true
   },
   "source": [
    "The dataset covers a period of one year. So the information of total spending per month does not conclude any insights regaeding the pattern of purchasing over time. We need more data to conclude any thing. However, we can knoo from these data and the variance between months how many custumers are recurring or those who buy occasionally in general"
   ]
  },
  {
   "cell_type": "code",
   "execution_count": 84,
   "metadata": {
    "collapsed": false,
    "deletable": true,
    "editable": true
   },
   "outputs": [
    {
     "data": {
      "image/png": "[encoded data removed]",
      "text/plain": [
       "<matplotlib.figure.Figure at 0x21d810f9550>"
      ]
     },
     "metadata": {
      "needs_background": "light"
     },
     "output_type": "display_data"
    },
    {
     "data": {
      "text/plain": [
       "<matplotlib.figure.Figure at 0x21d810610f0>"
      ]
     },
     "metadata": {},
     "output_type": "display_data"
    }
   ],
   "source": [
    "import matplotlib.pyplot as plot\n",
    "import matplotlib.pyplot as plt\n",
    "clusters_info[[1,2,3,4,5,6,7,8,9,10,11,12]].plot.bar(rot=15, title=\"\",figsize=(20,10));\n",
    "plot.figure(figsize=(400,400))\n",
    "plot.show(block=True);"
   ]
  },
  {
   "cell_type": "markdown",
   "metadata": {
    "deletable": true,
    "editable": true
   },
   "source": [
    "## Scatter plots"
   ]
  },
  {
   "cell_type": "markdown",
   "metadata": {},
   "source": [
    "The scatter plots below shows the relashionship between Monetary and frequency for each cluster"
   ]
  },
  {
   "cell_type": "code",
   "execution_count": 87,
   "metadata": {
    "collapsed": false
   },
   "outputs": [
    {
     "data": {
      "image/png": "[encoded data removed]",
      "text/plain": [
       "<matplotlib.figure.Figure at 0x21d8b0c0358>"
      ]
     },
     "metadata": {
      "needs_background": "light"
     },
     "output_type": "display_data"
    }
   ],
   "source": [
    "#cluster 0\n",
    "plt.scatter(\n",
    "    transformed_k4.loc[transformed_k4['Cluster'] == 0]['Monetary'], \n",
    "    transformed_k4.loc[transformed_k4['Cluster'] == 0]['Frequancy'],\n",
    "    c='gold'\n",
    ")\n",
    "#Cluster 1\n",
    "\n",
    "plt.scatter(\n",
    "    transformed_k4.loc[transformed_k4['Cluster'] == 1]['Monetary'], \n",
    "    transformed_k4.loc[transformed_k4['Cluster'] == 1]['Frequancy'],\n",
    "    c='blue'\n",
    ")\n",
    "\n",
    "#Cluster 2\n",
    "plt.scatter(\n",
    "    transformed_k4.loc[transformed_k4['Cluster'] == 2]['Monetary'], \n",
    "    transformed_k4.loc[transformed_k4['Cluster'] == 2]['Frequancy'],\n",
    "    c='green'\n",
    ")\n",
    "\n",
    "#Cluster 3\n",
    "\n",
    "plt.scatter(\n",
    "    transformed_k4.loc[transformed_k4['Cluster'] == 3]['Monetary'], \n",
    "    transformed_k4.loc[transformed_k4['Cluster'] == 3]['Frequancy'],\n",
    "    c='red'\n",
    ")\n",
    "#Cluster 4\n",
    "plt.scatter(\n",
    "    transformed_k4.loc[transformed_k4['Cluster'] == 4]['Monetary'], \n",
    "    transformed_k4.loc[transformed_k4['Cluster'] == 4]['Frequancy'],\n",
    "    c='purple'\n",
    ")\n",
    "\n",
    "plt.title('Total spending vs. Number of orders')\n",
    "plt.xlabel('Order Count')\n",
    "plt.ylabel('Total spending')\n",
    "\n",
    "plt.grid()\n",
    "plt.show()"
   ]
  },
  {
   "cell_type": "markdown",
   "metadata": {},
   "source": [
    "# Understanding the Outliers "
   ]
  },
  {
   "cell_type": "markdown",
   "metadata": {},
   "source": [
    "Even that we remove outliers from our dataset to perform the clustering, it is very crucial to know more about their behaviors as a separate segment in order to make proper marketing campaign for them (if valuable to our business"
   ]
  },
  {
   "cell_type": "markdown",
   "metadata": {},
   "source": [
    "### Where are they from?"
   ]
  },
  {
   "cell_type": "code",
   "execution_count": 97,
   "metadata": {
    "collapsed": false,
    "scrolled": false
   },
   "outputs": [
    {
     "data": {
      "text/html": [
       "<div>\n",
       "<style>\n",
       "    .dataframe thead tr:only-child th {\n",
       "        text-align: right;\n",
       "    }\n",
       "\n",
       "    .dataframe thead th {\n",
       "        text-align: left;\n",
       "    }\n",
       "\n",
       "    .dataframe tbody tr th {\n",
       "        vertical-align: top;\n",
       "    }\n",
       "</style>\n",
       "<table border=\"1\" class=\"dataframe\">\n",
       "  <thead>\n",
       "    <tr style=\"text-align: right;\">\n",
       "      <th></th>\n",
       "      <th>0</th>\n",
       "    </tr>\n",
       "  </thead>\n",
       "  <tbody>\n",
       "    <tr>\n",
       "      <th>0</th>\n",
       "      <td>United Kingdom</td>\n",
       "    </tr>\n",
       "    <tr>\n",
       "      <th>1</th>\n",
       "      <td>EIRE</td>\n",
       "    </tr>\n",
       "    <tr>\n",
       "      <th>2</th>\n",
       "      <td>Germany</td>\n",
       "    </tr>\n",
       "    <tr>\n",
       "      <th>3</th>\n",
       "      <td>France</td>\n",
       "    </tr>\n",
       "    <tr>\n",
       "      <th>4</th>\n",
       "      <td>Japan</td>\n",
       "    </tr>\n",
       "    <tr>\n",
       "      <th>5</th>\n",
       "      <td>Sweden</td>\n",
       "    </tr>\n",
       "    <tr>\n",
       "      <th>6</th>\n",
       "      <td>Netherlands</td>\n",
       "    </tr>\n",
       "    <tr>\n",
       "      <th>7</th>\n",
       "      <td>Australia</td>\n",
       "    </tr>\n",
       "  </tbody>\n",
       "</table>\n",
       "</div>"
      ],
      "text/plain": [
       "                0\n",
       "0  United Kingdom\n",
       "1            EIRE\n",
       "2         Germany\n",
       "3          France\n",
       "4           Japan\n",
       "5          Sweden\n",
       "6     Netherlands\n",
       "7       Australia"
      ]
     },
     "execution_count": 97,
     "metadata": {},
     "output_type": "execute_result"
    }
   ],
   "source": [
    "# Customers with outlier behaviours\n",
    "#Get the outlier in total spending\n",
    "outliers = customers #load the entier dataset before removing outlier\n",
    "outliers = outliers[(outliers['Monetary'] < low) | (outliers['Monetary'] > high)] #get outliers\n",
    "outliers_ID = outliers['CustomerID']\n",
    "outliers_values = pd.DataFrame(df[df['CustomerID'].isin(outliers_ID)]['Country'].unique())\n",
    "outliers_values"
   ]
  },
  {
   "cell_type": "markdown",
   "metadata": {
    "deletable": true,
    "editable": true
   },
   "source": [
    "### What is the max spending and by whome?"
   ]
  },
  {
   "cell_type": "code",
   "execution_count": 122,
   "metadata": {
    "collapsed": false,
    "scrolled": true
   },
   "outputs": [
    {
     "data": {
      "text/html": [
       "<div>\n",
       "<style>\n",
       "    .dataframe thead tr:only-child th {\n",
       "        text-align: right;\n",
       "    }\n",
       "\n",
       "    .dataframe thead th {\n",
       "        text-align: left;\n",
       "    }\n",
       "\n",
       "    .dataframe tbody tr th {\n",
       "        vertical-align: top;\n",
       "    }\n",
       "</style>\n",
       "<table border=\"1\" class=\"dataframe\">\n",
       "  <thead>\n",
       "    <tr style=\"text-align: right;\">\n",
       "      <th></th>\n",
       "      <th>CustomerID</th>\n",
       "      <th>Frequancy</th>\n",
       "      <th>MinSpendingPerOrder</th>\n",
       "      <th>MaxSpendingPerOrder</th>\n",
       "      <th>AvgSpendingPerOrder</th>\n",
       "      <th>Monetary</th>\n",
       "      <th>Recency</th>\n",
       "      <th>UniqueNumberOfProductsPerOrder</th>\n",
       "      <th>NumberOfProducts</th>\n",
       "      <th>AvgProductsPerOrder</th>\n",
       "      <th>...</th>\n",
       "      <th>3</th>\n",
       "      <th>4</th>\n",
       "      <th>5</th>\n",
       "      <th>6</th>\n",
       "      <th>7</th>\n",
       "      <th>8</th>\n",
       "      <th>9</th>\n",
       "      <th>10</th>\n",
       "      <th>11</th>\n",
       "      <th>12</th>\n",
       "    </tr>\n",
       "  </thead>\n",
       "  <tbody>\n",
       "    <tr>\n",
       "      <th>4197</th>\n",
       "      <td>18102.0</td>\n",
       "      <td>60</td>\n",
       "      <td>80.60</td>\n",
       "      <td>22206.00</td>\n",
       "      <td>4327.621667</td>\n",
       "      <td>259657.30</td>\n",
       "      <td>1</td>\n",
       "      <td>150</td>\n",
       "      <td>431</td>\n",
       "      <td>7.183333</td>\n",
       "      <td>...</td>\n",
       "      <td>6909.32</td>\n",
       "      <td>1196.96</td>\n",
       "      <td>18165.74</td>\n",
       "      <td>41959.44</td>\n",
       "      <td>22949.76</td>\n",
       "      <td>985.92</td>\n",
       "      <td>49622.18</td>\n",
       "      <td>52681.27</td>\n",
       "      <td>15331.08</td>\n",
       "      <td>39320.15</td>\n",
       "    </tr>\n",
       "    <tr>\n",
       "      <th>3725</th>\n",
       "      <td>17450.0</td>\n",
       "      <td>46</td>\n",
       "      <td>34.56</td>\n",
       "      <td>31698.16</td>\n",
       "      <td>4229.365000</td>\n",
       "      <td>194550.79</td>\n",
       "      <td>8</td>\n",
       "      <td>124</td>\n",
       "      <td>337</td>\n",
       "      <td>7.326087</td>\n",
       "      <td>...</td>\n",
       "      <td>13500.50</td>\n",
       "      <td>3585.04</td>\n",
       "      <td>18025.68</td>\n",
       "      <td>5405.48</td>\n",
       "      <td>8485.14</td>\n",
       "      <td>16119.46</td>\n",
       "      <td>75412.64</td>\n",
       "      <td>3935.96</td>\n",
       "      <td>27869.45</td>\n",
       "      <td>3591.24</td>\n",
       "    </tr>\n",
       "    <tr>\n",
       "      <th>3006</th>\n",
       "      <td>16446.0</td>\n",
       "      <td>2</td>\n",
       "      <td>2.90</td>\n",
       "      <td>168469.60</td>\n",
       "      <td>84236.250000</td>\n",
       "      <td>168472.50</td>\n",
       "      <td>1</td>\n",
       "      <td>3</td>\n",
       "      <td>3</td>\n",
       "      <td>1.500000</td>\n",
       "      <td>...</td>\n",
       "      <td>0.00</td>\n",
       "      <td>0.00</td>\n",
       "      <td>2.90</td>\n",
       "      <td>0.00</td>\n",
       "      <td>0.00</td>\n",
       "      <td>0.00</td>\n",
       "      <td>0.00</td>\n",
       "      <td>0.00</td>\n",
       "      <td>0.00</td>\n",
       "      <td>168469.60</td>\n",
       "    </tr>\n",
       "    <tr>\n",
       "      <th>1879</th>\n",
       "      <td>14911.0</td>\n",
       "      <td>198</td>\n",
       "      <td>1.45</td>\n",
       "      <td>4345.10</td>\n",
       "      <td>688.261212</td>\n",
       "      <td>136275.72</td>\n",
       "      <td>1</td>\n",
       "      <td>1785</td>\n",
       "      <td>5589</td>\n",
       "      <td>28.227273</td>\n",
       "      <td>...</td>\n",
       "      <td>6677.84</td>\n",
       "      <td>4372.32</td>\n",
       "      <td>9186.68</td>\n",
       "      <td>9703.20</td>\n",
       "      <td>13113.58</td>\n",
       "      <td>11895.49</td>\n",
       "      <td>20771.97</td>\n",
       "      <td>18016.39</td>\n",
       "      <td>21970.73</td>\n",
       "      <td>14316.86</td>\n",
       "    </tr>\n",
       "    <tr>\n",
       "      <th>55</th>\n",
       "      <td>12415.0</td>\n",
       "      <td>20</td>\n",
       "      <td>61.20</td>\n",
       "      <td>22775.93</td>\n",
       "      <td>6228.226500</td>\n",
       "      <td>124564.53</td>\n",
       "      <td>24</td>\n",
       "      <td>443</td>\n",
       "      <td>713</td>\n",
       "      <td>35.650000</td>\n",
       "      <td>...</td>\n",
       "      <td>16726.84</td>\n",
       "      <td>0.00</td>\n",
       "      <td>12691.16</td>\n",
       "      <td>23426.81</td>\n",
       "      <td>2955.01</td>\n",
       "      <td>21880.44</td>\n",
       "      <td>2941.72</td>\n",
       "      <td>16471.77</td>\n",
       "      <td>6354.88</td>\n",
       "      <td>0.00</td>\n",
       "    </tr>\n",
       "    <tr>\n",
       "      <th>1333</th>\n",
       "      <td>14156.0</td>\n",
       "      <td>54</td>\n",
       "      <td>34.68</td>\n",
       "      <td>16774.72</td>\n",
       "      <td>2161.659815</td>\n",
       "      <td>116729.63</td>\n",
       "      <td>10</td>\n",
       "      <td>713</td>\n",
       "      <td>1387</td>\n",
       "      <td>25.685185</td>\n",
       "      <td>...</td>\n",
       "      <td>9694.62</td>\n",
       "      <td>2898.18</td>\n",
       "      <td>5412.18</td>\n",
       "      <td>9707.79</td>\n",
       "      <td>26364.99</td>\n",
       "      <td>4821.89</td>\n",
       "      <td>19623.52</td>\n",
       "      <td>5801.53</td>\n",
       "      <td>6652.68</td>\n",
       "      <td>322.20</td>\n",
       "    </tr>\n",
       "    <tr>\n",
       "      <th>3768</th>\n",
       "      <td>17511.0</td>\n",
       "      <td>31</td>\n",
       "      <td>31.00</td>\n",
       "      <td>7059.54</td>\n",
       "      <td>2937.496129</td>\n",
       "      <td>91062.38</td>\n",
       "      <td>3</td>\n",
       "      <td>453</td>\n",
       "      <td>963</td>\n",
       "      <td>31.064516</td>\n",
       "      <td>...</td>\n",
       "      <td>7238.58</td>\n",
       "      <td>2941.80</td>\n",
       "      <td>7213.16</td>\n",
       "      <td>4415.44</td>\n",
       "      <td>7590.01</td>\n",
       "      <td>8419.62</td>\n",
       "      <td>8229.92</td>\n",
       "      <td>5755.45</td>\n",
       "      <td>13522.22</td>\n",
       "      <td>14090.40</td>\n",
       "    </tr>\n",
       "    <tr>\n",
       "      <th>0</th>\n",
       "      <td>12346.0</td>\n",
       "      <td>1</td>\n",
       "      <td>77183.60</td>\n",
       "      <td>77183.60</td>\n",
       "      <td>77183.600000</td>\n",
       "      <td>77183.60</td>\n",
       "      <td>326</td>\n",
       "      <td>1</td>\n",
       "      <td>1</td>\n",
       "      <td>1.000000</td>\n",
       "      <td>...</td>\n",
       "      <td>0.00</td>\n",
       "      <td>0.00</td>\n",
       "      <td>0.00</td>\n",
       "      <td>0.00</td>\n",
       "      <td>0.00</td>\n",
       "      <td>0.00</td>\n",
       "      <td>0.00</td>\n",
       "      <td>0.00</td>\n",
       "      <td>0.00</td>\n",
       "      <td>0.00</td>\n",
       "    </tr>\n",
       "    <tr>\n",
       "      <th>2700</th>\n",
       "      <td>16029.0</td>\n",
       "      <td>62</td>\n",
       "      <td>90.00</td>\n",
       "      <td>7810.56</td>\n",
       "      <td>1175.517581</td>\n",
       "      <td>72882.09</td>\n",
       "      <td>39</td>\n",
       "      <td>43</td>\n",
       "      <td>241</td>\n",
       "      <td>3.887097</td>\n",
       "      <td>...</td>\n",
       "      <td>3487.08</td>\n",
       "      <td>1340.40</td>\n",
       "      <td>3353.76</td>\n",
       "      <td>3969.60</td>\n",
       "      <td>2170.08</td>\n",
       "      <td>10471.30</td>\n",
       "      <td>3172.50</td>\n",
       "      <td>24832.80</td>\n",
       "      <td>632.30</td>\n",
       "      <td>13112.52</td>\n",
       "    </tr>\n",
       "  </tbody>\n",
       "</table>\n",
       "<p>9 rows × 27 columns</p>\n",
       "</div>"
      ],
      "text/plain": [
       "      CustomerID  Frequancy  MinSpendingPerOrder  MaxSpendingPerOrder  \\\n",
       "4197     18102.0         60                80.60             22206.00   \n",
       "3725     17450.0         46                34.56             31698.16   \n",
       "3006     16446.0          2                 2.90            168469.60   \n",
       "1879     14911.0        198                 1.45              4345.10   \n",
       "55       12415.0         20                61.20             22775.93   \n",
       "1333     14156.0         54                34.68             16774.72   \n",
       "3768     17511.0         31                31.00              7059.54   \n",
       "0        12346.0          1             77183.60             77183.60   \n",
       "2700     16029.0         62                90.00              7810.56   \n",
       "\n",
       "      AvgSpendingPerOrder   Monetary  Recency  UniqueNumberOfProductsPerOrder  \\\n",
       "4197          4327.621667  259657.30        1                             150   \n",
       "3725          4229.365000  194550.79        8                             124   \n",
       "3006         84236.250000  168472.50        1                               3   \n",
       "1879           688.261212  136275.72        1                            1785   \n",
       "55            6228.226500  124564.53       24                             443   \n",
       "1333          2161.659815  116729.63       10                             713   \n",
       "3768          2937.496129   91062.38        3                             453   \n",
       "0            77183.600000   77183.60      326                               1   \n",
       "2700          1175.517581   72882.09       39                              43   \n",
       "\n",
       "      NumberOfProducts  AvgProductsPerOrder    ...             3        4  \\\n",
       "4197               431             7.183333    ...       6909.32  1196.96   \n",
       "3725               337             7.326087    ...      13500.50  3585.04   \n",
       "3006                 3             1.500000    ...          0.00     0.00   \n",
       "1879              5589            28.227273    ...       6677.84  4372.32   \n",
       "55                 713            35.650000    ...      16726.84     0.00   \n",
       "1333              1387            25.685185    ...       9694.62  2898.18   \n",
       "3768               963            31.064516    ...       7238.58  2941.80   \n",
       "0                    1             1.000000    ...          0.00     0.00   \n",
       "2700               241             3.887097    ...       3487.08  1340.40   \n",
       "\n",
       "             5         6         7         8         9        10        11  \\\n",
       "4197  18165.74  41959.44  22949.76    985.92  49622.18  52681.27  15331.08   \n",
       "3725  18025.68   5405.48   8485.14  16119.46  75412.64   3935.96  27869.45   \n",
       "3006      2.90      0.00      0.00      0.00      0.00      0.00      0.00   \n",
       "1879   9186.68   9703.20  13113.58  11895.49  20771.97  18016.39  21970.73   \n",
       "55    12691.16  23426.81   2955.01  21880.44   2941.72  16471.77   6354.88   \n",
       "1333   5412.18   9707.79  26364.99   4821.89  19623.52   5801.53   6652.68   \n",
       "3768   7213.16   4415.44   7590.01   8419.62   8229.92   5755.45  13522.22   \n",
       "0         0.00      0.00      0.00      0.00      0.00      0.00      0.00   \n",
       "2700   3353.76   3969.60   2170.08  10471.30   3172.50  24832.80    632.30   \n",
       "\n",
       "             12  \n",
       "4197   39320.15  \n",
       "3725    3591.24  \n",
       "3006  168469.60  \n",
       "1879   14316.86  \n",
       "55         0.00  \n",
       "1333     322.20  \n",
       "3768   14090.40  \n",
       "0          0.00  \n",
       "2700   13112.52  \n",
       "\n",
       "[9 rows x 27 columns]"
      ]
     },
     "execution_count": 122,
     "metadata": {},
     "output_type": "execute_result"
    }
   ],
   "source": [
    "outliers = customers #load the entier dataset before removing outlier\n",
    "outliers = outliers[(outliers['Monetary'] < low) | (outliers['Monetary'] > high)] #get outliers\n",
    "outliers = outliers.sort_values('Monetary',ascending=False).iloc[1:10,:]\n",
    "outliers"
   ]
  },
  {
   "cell_type": "markdown",
   "metadata": {},
   "source": [
    "The max spending is 259657.30  by 14646.0"
   ]
  },
  {
   "cell_type": "markdown",
   "metadata": {},
   "source": [
    "### What is the best-selling product among them?"
   ]
  },
  {
   "cell_type": "code",
   "execution_count": 140,
   "metadata": {
    "collapsed": false,
    "scrolled": true
   },
   "outputs": [
    {
     "data": {
      "text/plain": [
       "Index(['C3', 'C2', 'C1', 'C4', 'C0'], dtype='object')"
      ]
     },
     "execution_count": 140,
     "metadata": {},
     "output_type": "execute_result"
    }
   ],
   "source": [
    "outlierdf = pd.DataFrame(outliers[['C0','C1','C2','C3','C4']].sum().sort_values())\n",
    "outlierdf.index"
   ]
  },
  {
   "cell_type": "code",
   "execution_count": 141,
   "metadata": {
    "collapsed": false
   },
   "outputs": [
    {
     "data": {
      "image/png": "[encoded data removed]",
      "text/plain": [
       "<matplotlib.figure.Figure at 0x21d8109dcf8>"
      ]
     },
     "metadata": {
      "needs_background": "light"
     },
     "output_type": "display_data"
    }
   ],
   "source": [
    "outlierdf.plot.bar(rot=14,title=\"\",figsize=(10,10));\n",
    "plt.show(block=True)"
   ]
  }
 ],
 "metadata": {
  "kernelspec": {
   "display_name": "Python 3",
   "language": "python",
   "name": "python3"
  },
  "language_info": {
   "codemirror_mode": {
    "name": "ipython",
    "version": 3
   },
   "file_extension": ".py",
   "mimetype": "text/x-python",
   "name": "python",
   "nbconvert_exporter": "python",
   "pygments_lexer": "ipython3",
   "version": "3.6.3"
  }
 },
 "nbformat": 4,
 "nbformat_minor": 2
}
